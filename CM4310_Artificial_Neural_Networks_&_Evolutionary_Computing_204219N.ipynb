{
  "nbformat": 4,
  "nbformat_minor": 0,
  "metadata": {
    "colab": {
      "provenance": [],
      "authorship_tag": "ABX9TyM2WgdGmAuPn67uR+Rbe+7f",
      "include_colab_link": true
    },
    "kernelspec": {
      "name": "python3",
      "display_name": "Python 3"
    },
    "language_info": {
      "name": "python"
    },
    "widgets": {
      "application/vnd.jupyter.widget-state+json": {
        "b7b47826941e495e8898c921d87646bb": {
          "model_module": "@jupyter-widgets/controls",
          "model_name": "HBoxModel",
          "model_module_version": "1.5.0",
          "state": {
            "_dom_classes": [],
            "_model_module": "@jupyter-widgets/controls",
            "_model_module_version": "1.5.0",
            "_model_name": "HBoxModel",
            "_view_count": null,
            "_view_module": "@jupyter-widgets/controls",
            "_view_module_version": "1.5.0",
            "_view_name": "HBoxView",
            "box_style": "",
            "children": [
              "IPY_MODEL_53d04d32e3ed431abd297bb724317f11",
              "IPY_MODEL_7a33521fcb1b4c02a69603abec75f8ce",
              "IPY_MODEL_025b1b8ef9484c33ab39688a91d5a75b"
            ],
            "layout": "IPY_MODEL_a3d8b466daa34f4a975fb7b28426e785"
          }
        },
        "53d04d32e3ed431abd297bb724317f11": {
          "model_module": "@jupyter-widgets/controls",
          "model_name": "HTMLModel",
          "model_module_version": "1.5.0",
          "state": {
            "_dom_classes": [],
            "_model_module": "@jupyter-widgets/controls",
            "_model_module_version": "1.5.0",
            "_model_name": "HTMLModel",
            "_view_count": null,
            "_view_module": "@jupyter-widgets/controls",
            "_view_module_version": "1.5.0",
            "_view_name": "HTMLView",
            "description": "",
            "description_tooltip": null,
            "layout": "IPY_MODEL_96c17058ca7e479386262dc4b285e1c4",
            "placeholder": "​",
            "style": "IPY_MODEL_4dc71aa921914b5697b4b553c88730f6",
            "value": "100%"
          }
        },
        "7a33521fcb1b4c02a69603abec75f8ce": {
          "model_module": "@jupyter-widgets/controls",
          "model_name": "FloatProgressModel",
          "model_module_version": "1.5.0",
          "state": {
            "_dom_classes": [],
            "_model_module": "@jupyter-widgets/controls",
            "_model_module_version": "1.5.0",
            "_model_name": "FloatProgressModel",
            "_view_count": null,
            "_view_module": "@jupyter-widgets/controls",
            "_view_module_version": "1.5.0",
            "_view_name": "ProgressView",
            "bar_style": "success",
            "description": "",
            "description_tooltip": null,
            "layout": "IPY_MODEL_3bd5d27e7da54257b4e959a47729b002",
            "max": 2000,
            "min": 0,
            "orientation": "horizontal",
            "style": "IPY_MODEL_6a3796b94e464943b6175770639087af",
            "value": 2000
          }
        },
        "025b1b8ef9484c33ab39688a91d5a75b": {
          "model_module": "@jupyter-widgets/controls",
          "model_name": "HTMLModel",
          "model_module_version": "1.5.0",
          "state": {
            "_dom_classes": [],
            "_model_module": "@jupyter-widgets/controls",
            "_model_module_version": "1.5.0",
            "_model_name": "HTMLModel",
            "_view_count": null,
            "_view_module": "@jupyter-widgets/controls",
            "_view_module_version": "1.5.0",
            "_view_name": "HTMLView",
            "description": "",
            "description_tooltip": null,
            "layout": "IPY_MODEL_dcbac36ef0574083897d8c9a2bde7658",
            "placeholder": "​",
            "style": "IPY_MODEL_3db739e981d34feeb218981638025e85",
            "value": " 2000/2000 [01:00&lt;00:00, 39.53epoch/s]"
          }
        },
        "a3d8b466daa34f4a975fb7b28426e785": {
          "model_module": "@jupyter-widgets/base",
          "model_name": "LayoutModel",
          "model_module_version": "1.2.0",
          "state": {
            "_model_module": "@jupyter-widgets/base",
            "_model_module_version": "1.2.0",
            "_model_name": "LayoutModel",
            "_view_count": null,
            "_view_module": "@jupyter-widgets/base",
            "_view_module_version": "1.2.0",
            "_view_name": "LayoutView",
            "align_content": null,
            "align_items": null,
            "align_self": null,
            "border": null,
            "bottom": null,
            "display": null,
            "flex": null,
            "flex_flow": null,
            "grid_area": null,
            "grid_auto_columns": null,
            "grid_auto_flow": null,
            "grid_auto_rows": null,
            "grid_column": null,
            "grid_gap": null,
            "grid_row": null,
            "grid_template_areas": null,
            "grid_template_columns": null,
            "grid_template_rows": null,
            "height": null,
            "justify_content": null,
            "justify_items": null,
            "left": null,
            "margin": null,
            "max_height": null,
            "max_width": null,
            "min_height": null,
            "min_width": null,
            "object_fit": null,
            "object_position": null,
            "order": null,
            "overflow": null,
            "overflow_x": null,
            "overflow_y": null,
            "padding": null,
            "right": null,
            "top": null,
            "visibility": null,
            "width": null
          }
        },
        "96c17058ca7e479386262dc4b285e1c4": {
          "model_module": "@jupyter-widgets/base",
          "model_name": "LayoutModel",
          "model_module_version": "1.2.0",
          "state": {
            "_model_module": "@jupyter-widgets/base",
            "_model_module_version": "1.2.0",
            "_model_name": "LayoutModel",
            "_view_count": null,
            "_view_module": "@jupyter-widgets/base",
            "_view_module_version": "1.2.0",
            "_view_name": "LayoutView",
            "align_content": null,
            "align_items": null,
            "align_self": null,
            "border": null,
            "bottom": null,
            "display": null,
            "flex": null,
            "flex_flow": null,
            "grid_area": null,
            "grid_auto_columns": null,
            "grid_auto_flow": null,
            "grid_auto_rows": null,
            "grid_column": null,
            "grid_gap": null,
            "grid_row": null,
            "grid_template_areas": null,
            "grid_template_columns": null,
            "grid_template_rows": null,
            "height": null,
            "justify_content": null,
            "justify_items": null,
            "left": null,
            "margin": null,
            "max_height": null,
            "max_width": null,
            "min_height": null,
            "min_width": null,
            "object_fit": null,
            "object_position": null,
            "order": null,
            "overflow": null,
            "overflow_x": null,
            "overflow_y": null,
            "padding": null,
            "right": null,
            "top": null,
            "visibility": null,
            "width": null
          }
        },
        "4dc71aa921914b5697b4b553c88730f6": {
          "model_module": "@jupyter-widgets/controls",
          "model_name": "DescriptionStyleModel",
          "model_module_version": "1.5.0",
          "state": {
            "_model_module": "@jupyter-widgets/controls",
            "_model_module_version": "1.5.0",
            "_model_name": "DescriptionStyleModel",
            "_view_count": null,
            "_view_module": "@jupyter-widgets/base",
            "_view_module_version": "1.2.0",
            "_view_name": "StyleView",
            "description_width": ""
          }
        },
        "3bd5d27e7da54257b4e959a47729b002": {
          "model_module": "@jupyter-widgets/base",
          "model_name": "LayoutModel",
          "model_module_version": "1.2.0",
          "state": {
            "_model_module": "@jupyter-widgets/base",
            "_model_module_version": "1.2.0",
            "_model_name": "LayoutModel",
            "_view_count": null,
            "_view_module": "@jupyter-widgets/base",
            "_view_module_version": "1.2.0",
            "_view_name": "LayoutView",
            "align_content": null,
            "align_items": null,
            "align_self": null,
            "border": null,
            "bottom": null,
            "display": null,
            "flex": null,
            "flex_flow": null,
            "grid_area": null,
            "grid_auto_columns": null,
            "grid_auto_flow": null,
            "grid_auto_rows": null,
            "grid_column": null,
            "grid_gap": null,
            "grid_row": null,
            "grid_template_areas": null,
            "grid_template_columns": null,
            "grid_template_rows": null,
            "height": null,
            "justify_content": null,
            "justify_items": null,
            "left": null,
            "margin": null,
            "max_height": null,
            "max_width": null,
            "min_height": null,
            "min_width": null,
            "object_fit": null,
            "object_position": null,
            "order": null,
            "overflow": null,
            "overflow_x": null,
            "overflow_y": null,
            "padding": null,
            "right": null,
            "top": null,
            "visibility": null,
            "width": null
          }
        },
        "6a3796b94e464943b6175770639087af": {
          "model_module": "@jupyter-widgets/controls",
          "model_name": "ProgressStyleModel",
          "model_module_version": "1.5.0",
          "state": {
            "_model_module": "@jupyter-widgets/controls",
            "_model_module_version": "1.5.0",
            "_model_name": "ProgressStyleModel",
            "_view_count": null,
            "_view_module": "@jupyter-widgets/base",
            "_view_module_version": "1.2.0",
            "_view_name": "StyleView",
            "bar_color": null,
            "description_width": ""
          }
        },
        "dcbac36ef0574083897d8c9a2bde7658": {
          "model_module": "@jupyter-widgets/base",
          "model_name": "LayoutModel",
          "model_module_version": "1.2.0",
          "state": {
            "_model_module": "@jupyter-widgets/base",
            "_model_module_version": "1.2.0",
            "_model_name": "LayoutModel",
            "_view_count": null,
            "_view_module": "@jupyter-widgets/base",
            "_view_module_version": "1.2.0",
            "_view_name": "LayoutView",
            "align_content": null,
            "align_items": null,
            "align_self": null,
            "border": null,
            "bottom": null,
            "display": null,
            "flex": null,
            "flex_flow": null,
            "grid_area": null,
            "grid_auto_columns": null,
            "grid_auto_flow": null,
            "grid_auto_rows": null,
            "grid_column": null,
            "grid_gap": null,
            "grid_row": null,
            "grid_template_areas": null,
            "grid_template_columns": null,
            "grid_template_rows": null,
            "height": null,
            "justify_content": null,
            "justify_items": null,
            "left": null,
            "margin": null,
            "max_height": null,
            "max_width": null,
            "min_height": null,
            "min_width": null,
            "object_fit": null,
            "object_position": null,
            "order": null,
            "overflow": null,
            "overflow_x": null,
            "overflow_y": null,
            "padding": null,
            "right": null,
            "top": null,
            "visibility": null,
            "width": null
          }
        },
        "3db739e981d34feeb218981638025e85": {
          "model_module": "@jupyter-widgets/controls",
          "model_name": "DescriptionStyleModel",
          "model_module_version": "1.5.0",
          "state": {
            "_model_module": "@jupyter-widgets/controls",
            "_model_module_version": "1.5.0",
            "_model_name": "DescriptionStyleModel",
            "_view_count": null,
            "_view_module": "@jupyter-widgets/base",
            "_view_module_version": "1.2.0",
            "_view_name": "StyleView",
            "description_width": ""
          }
        }
      }
    }
  },
  "cells": [
    {
      "cell_type": "markdown",
      "metadata": {
        "id": "view-in-github",
        "colab_type": "text"
      },
      "source": [
        "<a href=\"https://colab.research.google.com/github/thiunuwan/Chronic-Kidney-Disease-Classification/blob/main/CM4310_Artificial_Neural_Networks_%26_Evolutionary_Computing_204219N.ipynb\" target=\"_parent\"><img src=\"https://colab.research.google.com/assets/colab-badge.svg\" alt=\"Open In Colab\"/></a>"
      ]
    },
    {
      "cell_type": "markdown",
      "source": [
        "#**CM4310 - Artificial Neural Networks & Evolutionary Computing Assignment**  \n",
        "\n",
        "Index Number :204219N\n",
        "\n",
        "Link to GoogleColab Notebook : [https://colab.research.google.com/drive/1HqX1Pbd7si9AwbNYtwds557AlVA8XD7e#scrollTo=kLCccorjCphF](https://colab.research.google.com/drive/1HqX1Pbd7si9AwbNYtwds557AlVA8XD7e#scrollTo=kLCccorjCphF)\n",
        "\n",
        "---"
      ],
      "metadata": {
        "id": "kLCccorjCphF"
      }
    },
    {
      "cell_type": "markdown",
      "source": [
        "### Objectives\n",
        "- Preprocess the dataset to handle missing values and remove noise.\n",
        "- Classify the dataset using a Multilayer Perceptron (MLP) with one hidden layer.\n",
        "- Evaluate the model and analyze the effects of hyperparameters."
      ],
      "metadata": {
        "id": "_32BHkIWJUIX"
      }
    },
    {
      "cell_type": "markdown",
      "source": [
        "##**Section 1:Installing Necessary Libraries**\n"
      ],
      "metadata": {
        "id": "c-DVjXMoJvsM"
      }
    },
    {
      "cell_type": "code",
      "source": [
        "# Install ucimlrepo and matplotlib-venn quietly\n",
        "!pip install -q ucimlrepo\n",
        "!pip install -q matplotlib-venn\n"
      ],
      "metadata": {
        "id": "rkvLgg94JvYI"
      },
      "execution_count": null,
      "outputs": []
    },
    {
      "cell_type": "markdown",
      "source": [
        "##**Section 2:Importing Libraries**\n",
        "\n",
        "We will use the following libraries in this project:\n",
        "- `numpy`: For numerical operations.\n",
        "- `pandas`: For data manipulation and analysis.\n",
        "- `sklearn`: For machine learning algorithms and evaluation.\n",
        "- `ucimlrepo`: To fetch datasets directly from the UCI Machine Learning Repository.\n",
        "- `missingno`: For visualizing missing data in datasets.\n",
        "- `seaborn (sns)`: For statistical data visualization, built on top of matplotlib.\n",
        "- `tqdm`: For adding progress bars to loops and iterations, useful in monitoring long-running processes."
      ],
      "metadata": {
        "id": "CxId1sSLLog-"
      }
    },
    {
      "cell_type": "code",
      "source": [
        "# Import necessary libraries\n",
        "import numpy as np\n",
        "import pandas as pd\n",
        "from sklearn.model_selection import train_test_split\n",
        "from sklearn.preprocessing import StandardScaler\n",
        "from sklearn.metrics import confusion_matrix, classification_report, ConfusionMatrixDisplay, mean_squared_error, accuracy_score\n",
        "from sklearn.impute import SimpleImputer\n",
        "import matplotlib.pyplot as plt\n",
        "from ucimlrepo import fetch_ucirepo\n",
        "import missingno as msno\n",
        "import seaborn as sns\n",
        "from tqdm.notebook import tqdm\n",
        "import math\n",
        "import warnings\n",
        "from IPython.display import display, Markdown"
      ],
      "metadata": {
        "id": "d875WxfPPI2h"
      },
      "execution_count": null,
      "outputs": []
    },
    {
      "cell_type": "markdown",
      "source": [
        "##**Section 3: Dataset Loading and Exploration**\n",
        "In this section, we:\n",
        "* Loaded the Chronic Kidney Disease dataset.\n",
        "* Displayed an overview of the dataset (shape, first few rows, data types).\n",
        "* Examined missing values /duplicate  entries and data distributions.\n",
        "* Visualized the distributions of numeric and categorical features.\n",
        "\n",
        "**Fetch or Load the Dataset**"
      ],
      "metadata": {
        "id": "5OAbokxoL01j"
      }
    },
    {
      "cell_type": "code",
      "source": [
        "#Fetch the Chronic Kidney Disease dataset\n",
        "chronic_kidney_disease = fetch_ucirepo(id=336)\n",
        "\n",
        "#Load the data into a Pandas DataFrame\n",
        "df = pd.DataFrame(chronic_kidney_disease.data.features, columns=chronic_kidney_disease.feature_names)\n",
        "df['target'] = chronic_kidney_disease.data.targets"
      ],
      "metadata": {
        "id": "DSG3fkdLVmnk"
      },
      "execution_count": null,
      "outputs": []
    },
    {
      "cell_type": "markdown",
      "source": [
        "**Display Basic Dataset Information**\n"
      ],
      "metadata": {
        "id": "8KF4iRA5XhcO"
      }
    },
    {
      "cell_type": "code",
      "source": [
        "df.head()"
      ],
      "metadata": {
        "colab": {
          "base_uri": "https://localhost:8080/",
          "height": 236
        },
        "id": "R--VpVq5XYcc",
        "outputId": "6e47eb65-2dea-4dcb-90bc-ef7390982cb5"
      },
      "execution_count": null,
      "outputs": [
        {
          "output_type": "execute_result",
          "data": {
            "text/plain": [
              "    age    bp     sg   al   su     rbc        pc         pcc          ba  \\\n",
              "0  48.0  80.0  1.020  1.0  0.0     NaN    normal  notpresent  notpresent   \n",
              "1   7.0  50.0  1.020  4.0  0.0     NaN    normal  notpresent  notpresent   \n",
              "2  62.0  80.0  1.010  2.0  3.0  normal    normal  notpresent  notpresent   \n",
              "3  48.0  70.0  1.005  4.0  0.0  normal  abnormal     present  notpresent   \n",
              "4  51.0  80.0  1.010  2.0  0.0  normal    normal  notpresent  notpresent   \n",
              "\n",
              "     bgr  ...   pcv    wbcc  rbcc  htn   dm  cad  appet   pe  ane target  \n",
              "0  121.0  ...  44.0  7800.0   5.2  yes  yes   no   good   no   no    ckd  \n",
              "1    NaN  ...  38.0  6000.0   NaN   no   no   no   good   no   no    ckd  \n",
              "2  423.0  ...  31.0  7500.0   NaN   no  yes   no   poor   no  yes    ckd  \n",
              "3  117.0  ...  32.0  6700.0   3.9  yes   no   no   poor  yes  yes    ckd  \n",
              "4  106.0  ...  35.0  7300.0   4.6   no   no   no   good   no   no    ckd  \n",
              "\n",
              "[5 rows x 25 columns]"
            ],
            "text/html": [
              "\n",
              "  <div id=\"df-2beb9104-7bc7-4215-b3d7-ca27c92b245e\" class=\"colab-df-container\">\n",
              "    <div>\n",
              "<style scoped>\n",
              "    .dataframe tbody tr th:only-of-type {\n",
              "        vertical-align: middle;\n",
              "    }\n",
              "\n",
              "    .dataframe tbody tr th {\n",
              "        vertical-align: top;\n",
              "    }\n",
              "\n",
              "    .dataframe thead th {\n",
              "        text-align: right;\n",
              "    }\n",
              "</style>\n",
              "<table border=\"1\" class=\"dataframe\">\n",
              "  <thead>\n",
              "    <tr style=\"text-align: right;\">\n",
              "      <th></th>\n",
              "      <th>age</th>\n",
              "      <th>bp</th>\n",
              "      <th>sg</th>\n",
              "      <th>al</th>\n",
              "      <th>su</th>\n",
              "      <th>rbc</th>\n",
              "      <th>pc</th>\n",
              "      <th>pcc</th>\n",
              "      <th>ba</th>\n",
              "      <th>bgr</th>\n",
              "      <th>...</th>\n",
              "      <th>pcv</th>\n",
              "      <th>wbcc</th>\n",
              "      <th>rbcc</th>\n",
              "      <th>htn</th>\n",
              "      <th>dm</th>\n",
              "      <th>cad</th>\n",
              "      <th>appet</th>\n",
              "      <th>pe</th>\n",
              "      <th>ane</th>\n",
              "      <th>target</th>\n",
              "    </tr>\n",
              "  </thead>\n",
              "  <tbody>\n",
              "    <tr>\n",
              "      <th>0</th>\n",
              "      <td>48.0</td>\n",
              "      <td>80.0</td>\n",
              "      <td>1.020</td>\n",
              "      <td>1.0</td>\n",
              "      <td>0.0</td>\n",
              "      <td>NaN</td>\n",
              "      <td>normal</td>\n",
              "      <td>notpresent</td>\n",
              "      <td>notpresent</td>\n",
              "      <td>121.0</td>\n",
              "      <td>...</td>\n",
              "      <td>44.0</td>\n",
              "      <td>7800.0</td>\n",
              "      <td>5.2</td>\n",
              "      <td>yes</td>\n",
              "      <td>yes</td>\n",
              "      <td>no</td>\n",
              "      <td>good</td>\n",
              "      <td>no</td>\n",
              "      <td>no</td>\n",
              "      <td>ckd</td>\n",
              "    </tr>\n",
              "    <tr>\n",
              "      <th>1</th>\n",
              "      <td>7.0</td>\n",
              "      <td>50.0</td>\n",
              "      <td>1.020</td>\n",
              "      <td>4.0</td>\n",
              "      <td>0.0</td>\n",
              "      <td>NaN</td>\n",
              "      <td>normal</td>\n",
              "      <td>notpresent</td>\n",
              "      <td>notpresent</td>\n",
              "      <td>NaN</td>\n",
              "      <td>...</td>\n",
              "      <td>38.0</td>\n",
              "      <td>6000.0</td>\n",
              "      <td>NaN</td>\n",
              "      <td>no</td>\n",
              "      <td>no</td>\n",
              "      <td>no</td>\n",
              "      <td>good</td>\n",
              "      <td>no</td>\n",
              "      <td>no</td>\n",
              "      <td>ckd</td>\n",
              "    </tr>\n",
              "    <tr>\n",
              "      <th>2</th>\n",
              "      <td>62.0</td>\n",
              "      <td>80.0</td>\n",
              "      <td>1.010</td>\n",
              "      <td>2.0</td>\n",
              "      <td>3.0</td>\n",
              "      <td>normal</td>\n",
              "      <td>normal</td>\n",
              "      <td>notpresent</td>\n",
              "      <td>notpresent</td>\n",
              "      <td>423.0</td>\n",
              "      <td>...</td>\n",
              "      <td>31.0</td>\n",
              "      <td>7500.0</td>\n",
              "      <td>NaN</td>\n",
              "      <td>no</td>\n",
              "      <td>yes</td>\n",
              "      <td>no</td>\n",
              "      <td>poor</td>\n",
              "      <td>no</td>\n",
              "      <td>yes</td>\n",
              "      <td>ckd</td>\n",
              "    </tr>\n",
              "    <tr>\n",
              "      <th>3</th>\n",
              "      <td>48.0</td>\n",
              "      <td>70.0</td>\n",
              "      <td>1.005</td>\n",
              "      <td>4.0</td>\n",
              "      <td>0.0</td>\n",
              "      <td>normal</td>\n",
              "      <td>abnormal</td>\n",
              "      <td>present</td>\n",
              "      <td>notpresent</td>\n",
              "      <td>117.0</td>\n",
              "      <td>...</td>\n",
              "      <td>32.0</td>\n",
              "      <td>6700.0</td>\n",
              "      <td>3.9</td>\n",
              "      <td>yes</td>\n",
              "      <td>no</td>\n",
              "      <td>no</td>\n",
              "      <td>poor</td>\n",
              "      <td>yes</td>\n",
              "      <td>yes</td>\n",
              "      <td>ckd</td>\n",
              "    </tr>\n",
              "    <tr>\n",
              "      <th>4</th>\n",
              "      <td>51.0</td>\n",
              "      <td>80.0</td>\n",
              "      <td>1.010</td>\n",
              "      <td>2.0</td>\n",
              "      <td>0.0</td>\n",
              "      <td>normal</td>\n",
              "      <td>normal</td>\n",
              "      <td>notpresent</td>\n",
              "      <td>notpresent</td>\n",
              "      <td>106.0</td>\n",
              "      <td>...</td>\n",
              "      <td>35.0</td>\n",
              "      <td>7300.0</td>\n",
              "      <td>4.6</td>\n",
              "      <td>no</td>\n",
              "      <td>no</td>\n",
              "      <td>no</td>\n",
              "      <td>good</td>\n",
              "      <td>no</td>\n",
              "      <td>no</td>\n",
              "      <td>ckd</td>\n",
              "    </tr>\n",
              "  </tbody>\n",
              "</table>\n",
              "<p>5 rows × 25 columns</p>\n",
              "</div>\n",
              "    <div class=\"colab-df-buttons\">\n",
              "\n",
              "  <div class=\"colab-df-container\">\n",
              "    <button class=\"colab-df-convert\" onclick=\"convertToInteractive('df-2beb9104-7bc7-4215-b3d7-ca27c92b245e')\"\n",
              "            title=\"Convert this dataframe to an interactive table.\"\n",
              "            style=\"display:none;\">\n",
              "\n",
              "  <svg xmlns=\"http://www.w3.org/2000/svg\" height=\"24px\" viewBox=\"0 -960 960 960\">\n",
              "    <path d=\"M120-120v-720h720v720H120Zm60-500h600v-160H180v160Zm220 220h160v-160H400v160Zm0 220h160v-160H400v160ZM180-400h160v-160H180v160Zm440 0h160v-160H620v160ZM180-180h160v-160H180v160Zm440 0h160v-160H620v160Z\"/>\n",
              "  </svg>\n",
              "    </button>\n",
              "\n",
              "  <style>\n",
              "    .colab-df-container {\n",
              "      display:flex;\n",
              "      gap: 12px;\n",
              "    }\n",
              "\n",
              "    .colab-df-convert {\n",
              "      background-color: #E8F0FE;\n",
              "      border: none;\n",
              "      border-radius: 50%;\n",
              "      cursor: pointer;\n",
              "      display: none;\n",
              "      fill: #1967D2;\n",
              "      height: 32px;\n",
              "      padding: 0 0 0 0;\n",
              "      width: 32px;\n",
              "    }\n",
              "\n",
              "    .colab-df-convert:hover {\n",
              "      background-color: #E2EBFA;\n",
              "      box-shadow: 0px 1px 2px rgba(60, 64, 67, 0.3), 0px 1px 3px 1px rgba(60, 64, 67, 0.15);\n",
              "      fill: #174EA6;\n",
              "    }\n",
              "\n",
              "    .colab-df-buttons div {\n",
              "      margin-bottom: 4px;\n",
              "    }\n",
              "\n",
              "    [theme=dark] .colab-df-convert {\n",
              "      background-color: #3B4455;\n",
              "      fill: #D2E3FC;\n",
              "    }\n",
              "\n",
              "    [theme=dark] .colab-df-convert:hover {\n",
              "      background-color: #434B5C;\n",
              "      box-shadow: 0px 1px 3px 1px rgba(0, 0, 0, 0.15);\n",
              "      filter: drop-shadow(0px 1px 2px rgba(0, 0, 0, 0.3));\n",
              "      fill: #FFFFFF;\n",
              "    }\n",
              "  </style>\n",
              "\n",
              "    <script>\n",
              "      const buttonEl =\n",
              "        document.querySelector('#df-2beb9104-7bc7-4215-b3d7-ca27c92b245e button.colab-df-convert');\n",
              "      buttonEl.style.display =\n",
              "        google.colab.kernel.accessAllowed ? 'block' : 'none';\n",
              "\n",
              "      async function convertToInteractive(key) {\n",
              "        const element = document.querySelector('#df-2beb9104-7bc7-4215-b3d7-ca27c92b245e');\n",
              "        const dataTable =\n",
              "          await google.colab.kernel.invokeFunction('convertToInteractive',\n",
              "                                                    [key], {});\n",
              "        if (!dataTable) return;\n",
              "\n",
              "        const docLinkHtml = 'Like what you see? Visit the ' +\n",
              "          '<a target=\"_blank\" href=https://colab.research.google.com/notebooks/data_table.ipynb>data table notebook</a>'\n",
              "          + ' to learn more about interactive tables.';\n",
              "        element.innerHTML = '';\n",
              "        dataTable['output_type'] = 'display_data';\n",
              "        await google.colab.output.renderOutput(dataTable, element);\n",
              "        const docLink = document.createElement('div');\n",
              "        docLink.innerHTML = docLinkHtml;\n",
              "        element.appendChild(docLink);\n",
              "      }\n",
              "    </script>\n",
              "  </div>\n",
              "\n",
              "\n",
              "<div id=\"df-6fb656c0-4131-46b2-b4a0-3f5e90935b69\">\n",
              "  <button class=\"colab-df-quickchart\" onclick=\"quickchart('df-6fb656c0-4131-46b2-b4a0-3f5e90935b69')\"\n",
              "            title=\"Suggest charts\"\n",
              "            style=\"display:none;\">\n",
              "\n",
              "<svg xmlns=\"http://www.w3.org/2000/svg\" height=\"24px\"viewBox=\"0 0 24 24\"\n",
              "     width=\"24px\">\n",
              "    <g>\n",
              "        <path d=\"M19 3H5c-1.1 0-2 .9-2 2v14c0 1.1.9 2 2 2h14c1.1 0 2-.9 2-2V5c0-1.1-.9-2-2-2zM9 17H7v-7h2v7zm4 0h-2V7h2v10zm4 0h-2v-4h2v4z\"/>\n",
              "    </g>\n",
              "</svg>\n",
              "  </button>\n",
              "\n",
              "<style>\n",
              "  .colab-df-quickchart {\n",
              "      --bg-color: #E8F0FE;\n",
              "      --fill-color: #1967D2;\n",
              "      --hover-bg-color: #E2EBFA;\n",
              "      --hover-fill-color: #174EA6;\n",
              "      --disabled-fill-color: #AAA;\n",
              "      --disabled-bg-color: #DDD;\n",
              "  }\n",
              "\n",
              "  [theme=dark] .colab-df-quickchart {\n",
              "      --bg-color: #3B4455;\n",
              "      --fill-color: #D2E3FC;\n",
              "      --hover-bg-color: #434B5C;\n",
              "      --hover-fill-color: #FFFFFF;\n",
              "      --disabled-bg-color: #3B4455;\n",
              "      --disabled-fill-color: #666;\n",
              "  }\n",
              "\n",
              "  .colab-df-quickchart {\n",
              "    background-color: var(--bg-color);\n",
              "    border: none;\n",
              "    border-radius: 50%;\n",
              "    cursor: pointer;\n",
              "    display: none;\n",
              "    fill: var(--fill-color);\n",
              "    height: 32px;\n",
              "    padding: 0;\n",
              "    width: 32px;\n",
              "  }\n",
              "\n",
              "  .colab-df-quickchart:hover {\n",
              "    background-color: var(--hover-bg-color);\n",
              "    box-shadow: 0 1px 2px rgba(60, 64, 67, 0.3), 0 1px 3px 1px rgba(60, 64, 67, 0.15);\n",
              "    fill: var(--button-hover-fill-color);\n",
              "  }\n",
              "\n",
              "  .colab-df-quickchart-complete:disabled,\n",
              "  .colab-df-quickchart-complete:disabled:hover {\n",
              "    background-color: var(--disabled-bg-color);\n",
              "    fill: var(--disabled-fill-color);\n",
              "    box-shadow: none;\n",
              "  }\n",
              "\n",
              "  .colab-df-spinner {\n",
              "    border: 2px solid var(--fill-color);\n",
              "    border-color: transparent;\n",
              "    border-bottom-color: var(--fill-color);\n",
              "    animation:\n",
              "      spin 1s steps(1) infinite;\n",
              "  }\n",
              "\n",
              "  @keyframes spin {\n",
              "    0% {\n",
              "      border-color: transparent;\n",
              "      border-bottom-color: var(--fill-color);\n",
              "      border-left-color: var(--fill-color);\n",
              "    }\n",
              "    20% {\n",
              "      border-color: transparent;\n",
              "      border-left-color: var(--fill-color);\n",
              "      border-top-color: var(--fill-color);\n",
              "    }\n",
              "    30% {\n",
              "      border-color: transparent;\n",
              "      border-left-color: var(--fill-color);\n",
              "      border-top-color: var(--fill-color);\n",
              "      border-right-color: var(--fill-color);\n",
              "    }\n",
              "    40% {\n",
              "      border-color: transparent;\n",
              "      border-right-color: var(--fill-color);\n",
              "      border-top-color: var(--fill-color);\n",
              "    }\n",
              "    60% {\n",
              "      border-color: transparent;\n",
              "      border-right-color: var(--fill-color);\n",
              "    }\n",
              "    80% {\n",
              "      border-color: transparent;\n",
              "      border-right-color: var(--fill-color);\n",
              "      border-bottom-color: var(--fill-color);\n",
              "    }\n",
              "    90% {\n",
              "      border-color: transparent;\n",
              "      border-bottom-color: var(--fill-color);\n",
              "    }\n",
              "  }\n",
              "</style>\n",
              "\n",
              "  <script>\n",
              "    async function quickchart(key) {\n",
              "      const quickchartButtonEl =\n",
              "        document.querySelector('#' + key + ' button');\n",
              "      quickchartButtonEl.disabled = true;  // To prevent multiple clicks.\n",
              "      quickchartButtonEl.classList.add('colab-df-spinner');\n",
              "      try {\n",
              "        const charts = await google.colab.kernel.invokeFunction(\n",
              "            'suggestCharts', [key], {});\n",
              "      } catch (error) {\n",
              "        console.error('Error during call to suggestCharts:', error);\n",
              "      }\n",
              "      quickchartButtonEl.classList.remove('colab-df-spinner');\n",
              "      quickchartButtonEl.classList.add('colab-df-quickchart-complete');\n",
              "    }\n",
              "    (() => {\n",
              "      let quickchartButtonEl =\n",
              "        document.querySelector('#df-6fb656c0-4131-46b2-b4a0-3f5e90935b69 button');\n",
              "      quickchartButtonEl.style.display =\n",
              "        google.colab.kernel.accessAllowed ? 'block' : 'none';\n",
              "    })();\n",
              "  </script>\n",
              "</div>\n",
              "\n",
              "    </div>\n",
              "  </div>\n"
            ],
            "application/vnd.google.colaboratory.intrinsic+json": {
              "type": "dataframe",
              "variable_name": "df"
            }
          },
          "metadata": {},
          "execution_count": 223
        }
      ]
    },
    {
      "cell_type": "code",
      "source": [
        "print(\"Dataset Shape:\", df.shape)\n"
      ],
      "metadata": {
        "colab": {
          "base_uri": "https://localhost:8080/"
        },
        "id": "9F9NQ6MJXwTh",
        "outputId": "abe6f3a5-b5bc-4ef9-b92e-6d684d8fb4f3"
      },
      "execution_count": null,
      "outputs": [
        {
          "output_type": "stream",
          "name": "stdout",
          "text": [
            "Dataset Shape: (400, 25)\n"
          ]
        }
      ]
    },
    {
      "cell_type": "markdown",
      "source": [
        "**Data Types and Memory Usage**"
      ],
      "metadata": {
        "id": "epOzMHzKX-0K"
      }
    },
    {
      "cell_type": "code",
      "source": [
        "df.info()"
      ],
      "metadata": {
        "colab": {
          "base_uri": "https://localhost:8080/"
        },
        "id": "OCYlXdMqYRpq",
        "outputId": "774d7d51-f1ef-418b-a110-017dc75daa84"
      },
      "execution_count": null,
      "outputs": [
        {
          "output_type": "stream",
          "name": "stdout",
          "text": [
            "<class 'pandas.core.frame.DataFrame'>\n",
            "RangeIndex: 400 entries, 0 to 399\n",
            "Data columns (total 25 columns):\n",
            " #   Column  Non-Null Count  Dtype  \n",
            "---  ------  --------------  -----  \n",
            " 0   age     391 non-null    float64\n",
            " 1   bp      388 non-null    float64\n",
            " 2   sg      353 non-null    float64\n",
            " 3   al      354 non-null    float64\n",
            " 4   su      351 non-null    float64\n",
            " 5   rbc     248 non-null    object \n",
            " 6   pc      335 non-null    object \n",
            " 7   pcc     396 non-null    object \n",
            " 8   ba      396 non-null    object \n",
            " 9   bgr     356 non-null    float64\n",
            " 10  bu      381 non-null    float64\n",
            " 11  sc      383 non-null    float64\n",
            " 12  sod     313 non-null    float64\n",
            " 13  pot     312 non-null    float64\n",
            " 14  hemo    348 non-null    float64\n",
            " 15  pcv     329 non-null    float64\n",
            " 16  wbcc    294 non-null    float64\n",
            " 17  rbcc    269 non-null    float64\n",
            " 18  htn     398 non-null    object \n",
            " 19  dm      398 non-null    object \n",
            " 20  cad     398 non-null    object \n",
            " 21  appet   399 non-null    object \n",
            " 22  pe      399 non-null    object \n",
            " 23  ane     399 non-null    object \n",
            " 24  target  400 non-null    object \n",
            "dtypes: float64(14), object(11)\n",
            "memory usage: 78.2+ KB\n"
          ]
        }
      ]
    },
    {
      "cell_type": "markdown",
      "source": [
        "**Summary Statistics**"
      ],
      "metadata": {
        "id": "HepYsfokYxT9"
      }
    },
    {
      "cell_type": "code",
      "source": [
        "df.describe()"
      ],
      "metadata": {
        "colab": {
          "base_uri": "https://localhost:8080/",
          "height": 300
        },
        "id": "EMAYfvHdY7--",
        "outputId": "36e93967-ce7b-4881-a1bd-147153c2df93"
      },
      "execution_count": null,
      "outputs": [
        {
          "output_type": "execute_result",
          "data": {
            "text/plain": [
              "              age          bp          sg          al          su         bgr  \\\n",
              "count  391.000000  388.000000  353.000000  354.000000  351.000000  356.000000   \n",
              "mean    51.483376   76.469072    1.017408    1.016949    0.450142  148.036517   \n",
              "std     17.169714   13.683637    0.005717    1.352679    1.099191   79.281714   \n",
              "min      2.000000   50.000000    1.005000    0.000000    0.000000   22.000000   \n",
              "25%     42.000000   70.000000    1.010000    0.000000    0.000000   99.000000   \n",
              "50%     55.000000   80.000000    1.020000    0.000000    0.000000  121.000000   \n",
              "75%     64.500000   80.000000    1.020000    2.000000    0.000000  163.000000   \n",
              "max     90.000000  180.000000    1.025000    5.000000    5.000000  490.000000   \n",
              "\n",
              "               bu          sc         sod         pot        hemo         pcv  \\\n",
              "count  381.000000  383.000000  313.000000  312.000000  348.000000  329.000000   \n",
              "mean    57.425722    3.072454  137.528754    4.627244   12.526437   38.884498   \n",
              "std     50.503006    5.741126   10.408752    3.193904    2.912587    8.990105   \n",
              "min      1.500000    0.400000    4.500000    2.500000    3.100000    9.000000   \n",
              "25%     27.000000    0.900000  135.000000    3.800000   10.300000   32.000000   \n",
              "50%     42.000000    1.300000  138.000000    4.400000   12.650000   40.000000   \n",
              "75%     66.000000    2.800000  142.000000    4.900000   15.000000   45.000000   \n",
              "max    391.000000   76.000000  163.000000   47.000000   17.800000   54.000000   \n",
              "\n",
              "               wbcc        rbcc  \n",
              "count    294.000000  269.000000  \n",
              "mean    8406.122449    4.707435  \n",
              "std     2944.474190    1.025323  \n",
              "min     2200.000000    2.100000  \n",
              "25%     6500.000000    3.900000  \n",
              "50%     8000.000000    4.800000  \n",
              "75%     9800.000000    5.400000  \n",
              "max    26400.000000    8.000000  "
            ],
            "text/html": [
              "\n",
              "  <div id=\"df-166a61b5-b312-42d9-9d94-5c0642f46d6b\" class=\"colab-df-container\">\n",
              "    <div>\n",
              "<style scoped>\n",
              "    .dataframe tbody tr th:only-of-type {\n",
              "        vertical-align: middle;\n",
              "    }\n",
              "\n",
              "    .dataframe tbody tr th {\n",
              "        vertical-align: top;\n",
              "    }\n",
              "\n",
              "    .dataframe thead th {\n",
              "        text-align: right;\n",
              "    }\n",
              "</style>\n",
              "<table border=\"1\" class=\"dataframe\">\n",
              "  <thead>\n",
              "    <tr style=\"text-align: right;\">\n",
              "      <th></th>\n",
              "      <th>age</th>\n",
              "      <th>bp</th>\n",
              "      <th>sg</th>\n",
              "      <th>al</th>\n",
              "      <th>su</th>\n",
              "      <th>bgr</th>\n",
              "      <th>bu</th>\n",
              "      <th>sc</th>\n",
              "      <th>sod</th>\n",
              "      <th>pot</th>\n",
              "      <th>hemo</th>\n",
              "      <th>pcv</th>\n",
              "      <th>wbcc</th>\n",
              "      <th>rbcc</th>\n",
              "    </tr>\n",
              "  </thead>\n",
              "  <tbody>\n",
              "    <tr>\n",
              "      <th>count</th>\n",
              "      <td>391.000000</td>\n",
              "      <td>388.000000</td>\n",
              "      <td>353.000000</td>\n",
              "      <td>354.000000</td>\n",
              "      <td>351.000000</td>\n",
              "      <td>356.000000</td>\n",
              "      <td>381.000000</td>\n",
              "      <td>383.000000</td>\n",
              "      <td>313.000000</td>\n",
              "      <td>312.000000</td>\n",
              "      <td>348.000000</td>\n",
              "      <td>329.000000</td>\n",
              "      <td>294.000000</td>\n",
              "      <td>269.000000</td>\n",
              "    </tr>\n",
              "    <tr>\n",
              "      <th>mean</th>\n",
              "      <td>51.483376</td>\n",
              "      <td>76.469072</td>\n",
              "      <td>1.017408</td>\n",
              "      <td>1.016949</td>\n",
              "      <td>0.450142</td>\n",
              "      <td>148.036517</td>\n",
              "      <td>57.425722</td>\n",
              "      <td>3.072454</td>\n",
              "      <td>137.528754</td>\n",
              "      <td>4.627244</td>\n",
              "      <td>12.526437</td>\n",
              "      <td>38.884498</td>\n",
              "      <td>8406.122449</td>\n",
              "      <td>4.707435</td>\n",
              "    </tr>\n",
              "    <tr>\n",
              "      <th>std</th>\n",
              "      <td>17.169714</td>\n",
              "      <td>13.683637</td>\n",
              "      <td>0.005717</td>\n",
              "      <td>1.352679</td>\n",
              "      <td>1.099191</td>\n",
              "      <td>79.281714</td>\n",
              "      <td>50.503006</td>\n",
              "      <td>5.741126</td>\n",
              "      <td>10.408752</td>\n",
              "      <td>3.193904</td>\n",
              "      <td>2.912587</td>\n",
              "      <td>8.990105</td>\n",
              "      <td>2944.474190</td>\n",
              "      <td>1.025323</td>\n",
              "    </tr>\n",
              "    <tr>\n",
              "      <th>min</th>\n",
              "      <td>2.000000</td>\n",
              "      <td>50.000000</td>\n",
              "      <td>1.005000</td>\n",
              "      <td>0.000000</td>\n",
              "      <td>0.000000</td>\n",
              "      <td>22.000000</td>\n",
              "      <td>1.500000</td>\n",
              "      <td>0.400000</td>\n",
              "      <td>4.500000</td>\n",
              "      <td>2.500000</td>\n",
              "      <td>3.100000</td>\n",
              "      <td>9.000000</td>\n",
              "      <td>2200.000000</td>\n",
              "      <td>2.100000</td>\n",
              "    </tr>\n",
              "    <tr>\n",
              "      <th>25%</th>\n",
              "      <td>42.000000</td>\n",
              "      <td>70.000000</td>\n",
              "      <td>1.010000</td>\n",
              "      <td>0.000000</td>\n",
              "      <td>0.000000</td>\n",
              "      <td>99.000000</td>\n",
              "      <td>27.000000</td>\n",
              "      <td>0.900000</td>\n",
              "      <td>135.000000</td>\n",
              "      <td>3.800000</td>\n",
              "      <td>10.300000</td>\n",
              "      <td>32.000000</td>\n",
              "      <td>6500.000000</td>\n",
              "      <td>3.900000</td>\n",
              "    </tr>\n",
              "    <tr>\n",
              "      <th>50%</th>\n",
              "      <td>55.000000</td>\n",
              "      <td>80.000000</td>\n",
              "      <td>1.020000</td>\n",
              "      <td>0.000000</td>\n",
              "      <td>0.000000</td>\n",
              "      <td>121.000000</td>\n",
              "      <td>42.000000</td>\n",
              "      <td>1.300000</td>\n",
              "      <td>138.000000</td>\n",
              "      <td>4.400000</td>\n",
              "      <td>12.650000</td>\n",
              "      <td>40.000000</td>\n",
              "      <td>8000.000000</td>\n",
              "      <td>4.800000</td>\n",
              "    </tr>\n",
              "    <tr>\n",
              "      <th>75%</th>\n",
              "      <td>64.500000</td>\n",
              "      <td>80.000000</td>\n",
              "      <td>1.020000</td>\n",
              "      <td>2.000000</td>\n",
              "      <td>0.000000</td>\n",
              "      <td>163.000000</td>\n",
              "      <td>66.000000</td>\n",
              "      <td>2.800000</td>\n",
              "      <td>142.000000</td>\n",
              "      <td>4.900000</td>\n",
              "      <td>15.000000</td>\n",
              "      <td>45.000000</td>\n",
              "      <td>9800.000000</td>\n",
              "      <td>5.400000</td>\n",
              "    </tr>\n",
              "    <tr>\n",
              "      <th>max</th>\n",
              "      <td>90.000000</td>\n",
              "      <td>180.000000</td>\n",
              "      <td>1.025000</td>\n",
              "      <td>5.000000</td>\n",
              "      <td>5.000000</td>\n",
              "      <td>490.000000</td>\n",
              "      <td>391.000000</td>\n",
              "      <td>76.000000</td>\n",
              "      <td>163.000000</td>\n",
              "      <td>47.000000</td>\n",
              "      <td>17.800000</td>\n",
              "      <td>54.000000</td>\n",
              "      <td>26400.000000</td>\n",
              "      <td>8.000000</td>\n",
              "    </tr>\n",
              "  </tbody>\n",
              "</table>\n",
              "</div>\n",
              "    <div class=\"colab-df-buttons\">\n",
              "\n",
              "  <div class=\"colab-df-container\">\n",
              "    <button class=\"colab-df-convert\" onclick=\"convertToInteractive('df-166a61b5-b312-42d9-9d94-5c0642f46d6b')\"\n",
              "            title=\"Convert this dataframe to an interactive table.\"\n",
              "            style=\"display:none;\">\n",
              "\n",
              "  <svg xmlns=\"http://www.w3.org/2000/svg\" height=\"24px\" viewBox=\"0 -960 960 960\">\n",
              "    <path d=\"M120-120v-720h720v720H120Zm60-500h600v-160H180v160Zm220 220h160v-160H400v160Zm0 220h160v-160H400v160ZM180-400h160v-160H180v160Zm440 0h160v-160H620v160ZM180-180h160v-160H180v160Zm440 0h160v-160H620v160Z\"/>\n",
              "  </svg>\n",
              "    </button>\n",
              "\n",
              "  <style>\n",
              "    .colab-df-container {\n",
              "      display:flex;\n",
              "      gap: 12px;\n",
              "    }\n",
              "\n",
              "    .colab-df-convert {\n",
              "      background-color: #E8F0FE;\n",
              "      border: none;\n",
              "      border-radius: 50%;\n",
              "      cursor: pointer;\n",
              "      display: none;\n",
              "      fill: #1967D2;\n",
              "      height: 32px;\n",
              "      padding: 0 0 0 0;\n",
              "      width: 32px;\n",
              "    }\n",
              "\n",
              "    .colab-df-convert:hover {\n",
              "      background-color: #E2EBFA;\n",
              "      box-shadow: 0px 1px 2px rgba(60, 64, 67, 0.3), 0px 1px 3px 1px rgba(60, 64, 67, 0.15);\n",
              "      fill: #174EA6;\n",
              "    }\n",
              "\n",
              "    .colab-df-buttons div {\n",
              "      margin-bottom: 4px;\n",
              "    }\n",
              "\n",
              "    [theme=dark] .colab-df-convert {\n",
              "      background-color: #3B4455;\n",
              "      fill: #D2E3FC;\n",
              "    }\n",
              "\n",
              "    [theme=dark] .colab-df-convert:hover {\n",
              "      background-color: #434B5C;\n",
              "      box-shadow: 0px 1px 3px 1px rgba(0, 0, 0, 0.15);\n",
              "      filter: drop-shadow(0px 1px 2px rgba(0, 0, 0, 0.3));\n",
              "      fill: #FFFFFF;\n",
              "    }\n",
              "  </style>\n",
              "\n",
              "    <script>\n",
              "      const buttonEl =\n",
              "        document.querySelector('#df-166a61b5-b312-42d9-9d94-5c0642f46d6b button.colab-df-convert');\n",
              "      buttonEl.style.display =\n",
              "        google.colab.kernel.accessAllowed ? 'block' : 'none';\n",
              "\n",
              "      async function convertToInteractive(key) {\n",
              "        const element = document.querySelector('#df-166a61b5-b312-42d9-9d94-5c0642f46d6b');\n",
              "        const dataTable =\n",
              "          await google.colab.kernel.invokeFunction('convertToInteractive',\n",
              "                                                    [key], {});\n",
              "        if (!dataTable) return;\n",
              "\n",
              "        const docLinkHtml = 'Like what you see? Visit the ' +\n",
              "          '<a target=\"_blank\" href=https://colab.research.google.com/notebooks/data_table.ipynb>data table notebook</a>'\n",
              "          + ' to learn more about interactive tables.';\n",
              "        element.innerHTML = '';\n",
              "        dataTable['output_type'] = 'display_data';\n",
              "        await google.colab.output.renderOutput(dataTable, element);\n",
              "        const docLink = document.createElement('div');\n",
              "        docLink.innerHTML = docLinkHtml;\n",
              "        element.appendChild(docLink);\n",
              "      }\n",
              "    </script>\n",
              "  </div>\n",
              "\n",
              "\n",
              "<div id=\"df-cc115346-efbb-4d1e-b6ee-611b5cd9666e\">\n",
              "  <button class=\"colab-df-quickchart\" onclick=\"quickchart('df-cc115346-efbb-4d1e-b6ee-611b5cd9666e')\"\n",
              "            title=\"Suggest charts\"\n",
              "            style=\"display:none;\">\n",
              "\n",
              "<svg xmlns=\"http://www.w3.org/2000/svg\" height=\"24px\"viewBox=\"0 0 24 24\"\n",
              "     width=\"24px\">\n",
              "    <g>\n",
              "        <path d=\"M19 3H5c-1.1 0-2 .9-2 2v14c0 1.1.9 2 2 2h14c1.1 0 2-.9 2-2V5c0-1.1-.9-2-2-2zM9 17H7v-7h2v7zm4 0h-2V7h2v10zm4 0h-2v-4h2v4z\"/>\n",
              "    </g>\n",
              "</svg>\n",
              "  </button>\n",
              "\n",
              "<style>\n",
              "  .colab-df-quickchart {\n",
              "      --bg-color: #E8F0FE;\n",
              "      --fill-color: #1967D2;\n",
              "      --hover-bg-color: #E2EBFA;\n",
              "      --hover-fill-color: #174EA6;\n",
              "      --disabled-fill-color: #AAA;\n",
              "      --disabled-bg-color: #DDD;\n",
              "  }\n",
              "\n",
              "  [theme=dark] .colab-df-quickchart {\n",
              "      --bg-color: #3B4455;\n",
              "      --fill-color: #D2E3FC;\n",
              "      --hover-bg-color: #434B5C;\n",
              "      --hover-fill-color: #FFFFFF;\n",
              "      --disabled-bg-color: #3B4455;\n",
              "      --disabled-fill-color: #666;\n",
              "  }\n",
              "\n",
              "  .colab-df-quickchart {\n",
              "    background-color: var(--bg-color);\n",
              "    border: none;\n",
              "    border-radius: 50%;\n",
              "    cursor: pointer;\n",
              "    display: none;\n",
              "    fill: var(--fill-color);\n",
              "    height: 32px;\n",
              "    padding: 0;\n",
              "    width: 32px;\n",
              "  }\n",
              "\n",
              "  .colab-df-quickchart:hover {\n",
              "    background-color: var(--hover-bg-color);\n",
              "    box-shadow: 0 1px 2px rgba(60, 64, 67, 0.3), 0 1px 3px 1px rgba(60, 64, 67, 0.15);\n",
              "    fill: var(--button-hover-fill-color);\n",
              "  }\n",
              "\n",
              "  .colab-df-quickchart-complete:disabled,\n",
              "  .colab-df-quickchart-complete:disabled:hover {\n",
              "    background-color: var(--disabled-bg-color);\n",
              "    fill: var(--disabled-fill-color);\n",
              "    box-shadow: none;\n",
              "  }\n",
              "\n",
              "  .colab-df-spinner {\n",
              "    border: 2px solid var(--fill-color);\n",
              "    border-color: transparent;\n",
              "    border-bottom-color: var(--fill-color);\n",
              "    animation:\n",
              "      spin 1s steps(1) infinite;\n",
              "  }\n",
              "\n",
              "  @keyframes spin {\n",
              "    0% {\n",
              "      border-color: transparent;\n",
              "      border-bottom-color: var(--fill-color);\n",
              "      border-left-color: var(--fill-color);\n",
              "    }\n",
              "    20% {\n",
              "      border-color: transparent;\n",
              "      border-left-color: var(--fill-color);\n",
              "      border-top-color: var(--fill-color);\n",
              "    }\n",
              "    30% {\n",
              "      border-color: transparent;\n",
              "      border-left-color: var(--fill-color);\n",
              "      border-top-color: var(--fill-color);\n",
              "      border-right-color: var(--fill-color);\n",
              "    }\n",
              "    40% {\n",
              "      border-color: transparent;\n",
              "      border-right-color: var(--fill-color);\n",
              "      border-top-color: var(--fill-color);\n",
              "    }\n",
              "    60% {\n",
              "      border-color: transparent;\n",
              "      border-right-color: var(--fill-color);\n",
              "    }\n",
              "    80% {\n",
              "      border-color: transparent;\n",
              "      border-right-color: var(--fill-color);\n",
              "      border-bottom-color: var(--fill-color);\n",
              "    }\n",
              "    90% {\n",
              "      border-color: transparent;\n",
              "      border-bottom-color: var(--fill-color);\n",
              "    }\n",
              "  }\n",
              "</style>\n",
              "\n",
              "  <script>\n",
              "    async function quickchart(key) {\n",
              "      const quickchartButtonEl =\n",
              "        document.querySelector('#' + key + ' button');\n",
              "      quickchartButtonEl.disabled = true;  // To prevent multiple clicks.\n",
              "      quickchartButtonEl.classList.add('colab-df-spinner');\n",
              "      try {\n",
              "        const charts = await google.colab.kernel.invokeFunction(\n",
              "            'suggestCharts', [key], {});\n",
              "      } catch (error) {\n",
              "        console.error('Error during call to suggestCharts:', error);\n",
              "      }\n",
              "      quickchartButtonEl.classList.remove('colab-df-spinner');\n",
              "      quickchartButtonEl.classList.add('colab-df-quickchart-complete');\n",
              "    }\n",
              "    (() => {\n",
              "      let quickchartButtonEl =\n",
              "        document.querySelector('#df-cc115346-efbb-4d1e-b6ee-611b5cd9666e button');\n",
              "      quickchartButtonEl.style.display =\n",
              "        google.colab.kernel.accessAllowed ? 'block' : 'none';\n",
              "    })();\n",
              "  </script>\n",
              "</div>\n",
              "\n",
              "    </div>\n",
              "  </div>\n"
            ],
            "application/vnd.google.colaboratory.intrinsic+json": {
              "type": "dataframe",
              "summary": "{\n  \"name\": \"df\",\n  \"rows\": 8,\n  \"fields\": [\n    {\n      \"column\": \"age\",\n      \"properties\": {\n        \"dtype\": \"number\",\n        \"std\": 124.96066286828238,\n        \"min\": 2.0,\n        \"max\": 391.0,\n        \"num_unique_values\": 8,\n        \"samples\": [\n          51.48337595907928,\n          55.0,\n          391.0\n        ],\n        \"semantic_type\": \"\",\n        \"description\": \"\"\n      }\n    },\n    {\n      \"column\": \"bp\",\n      \"properties\": {\n        \"dtype\": \"number\",\n        \"std\": 119.0212751707383,\n        \"min\": 13.683637493525255,\n        \"max\": 388.0,\n        \"num_unique_values\": 7,\n        \"samples\": [\n          388.0,\n          76.46907216494846,\n          80.0\n        ],\n        \"semantic_type\": \"\",\n        \"description\": \"\"\n      }\n    },\n    {\n      \"column\": \"sg\",\n      \"properties\": {\n        \"dtype\": \"number\",\n        \"std\": 124.4965948725244,\n        \"min\": 0.005716616974376362,\n        \"max\": 353.0,\n        \"num_unique_values\": 7,\n        \"samples\": [\n          353.0,\n          1.0174079320113314,\n          1.02\n        ],\n        \"semantic_type\": \"\",\n        \"description\": \"\"\n      }\n    },\n    {\n      \"column\": \"al\",\n      \"properties\": {\n        \"dtype\": \"number\",\n        \"std\": 124.69573145448318,\n        \"min\": 0.0,\n        \"max\": 354.0,\n        \"num_unique_values\": 6,\n        \"samples\": [\n          354.0,\n          1.0169491525423728,\n          5.0\n        ],\n        \"semantic_type\": \"\",\n        \"description\": \"\"\n      }\n    },\n    {\n      \"column\": \"su\",\n      \"properties\": {\n        \"dtype\": \"number\",\n        \"std\": 123.77815413979741,\n        \"min\": 0.0,\n        \"max\": 351.0,\n        \"num_unique_values\": 5,\n        \"samples\": [\n          0.45014245014245013,\n          5.0,\n          1.099191251885409\n        ],\n        \"semantic_type\": \"\",\n        \"description\": \"\"\n      }\n    },\n    {\n      \"column\": \"bgr\",\n      \"properties\": {\n        \"dtype\": \"number\",\n        \"std\": 157.3682221906049,\n        \"min\": 22.0,\n        \"max\": 490.0,\n        \"num_unique_values\": 8,\n        \"samples\": [\n          148.0365168539326,\n          121.0,\n          356.0\n        ],\n        \"semantic_type\": \"\",\n        \"description\": \"\"\n      }\n    },\n    {\n      \"column\": \"bu\",\n      \"properties\": {\n        \"dtype\": \"number\",\n        \"std\": 161.06812991816776,\n        \"min\": 1.5,\n        \"max\": 391.0,\n        \"num_unique_values\": 8,\n        \"samples\": [\n          57.425721784776904,\n          42.0,\n          381.0\n        ],\n        \"semantic_type\": \"\",\n        \"description\": \"\"\n      }\n    },\n    {\n      \"column\": \"sc\",\n      \"properties\": {\n        \"dtype\": \"number\",\n        \"std\": 133.3772918788655,\n        \"min\": 0.4,\n        \"max\": 383.0,\n        \"num_unique_values\": 8,\n        \"samples\": [\n          3.072454308093995,\n          1.3,\n          383.0\n        ],\n        \"semantic_type\": \"\",\n        \"description\": \"\"\n      }\n    },\n    {\n      \"column\": \"sod\",\n      \"properties\": {\n        \"dtype\": \"number\",\n        \"std\": 96.30199646834795,\n        \"min\": 4.5,\n        \"max\": 313.0,\n        \"num_unique_values\": 8,\n        \"samples\": [\n          137.52875399361022,\n          138.0,\n          313.0\n        ],\n        \"semantic_type\": \"\",\n        \"description\": \"\"\n      }\n    },\n    {\n      \"column\": \"pot\",\n      \"properties\": {\n        \"dtype\": \"number\",\n        \"std\": 107.81460981356975,\n        \"min\": 2.5,\n        \"max\": 312.0,\n        \"num_unique_values\": 8,\n        \"samples\": [\n          4.62724358974359,\n          4.4,\n          312.0\n        ],\n        \"semantic_type\": \"\",\n        \"description\": \"\"\n      }\n    },\n    {\n      \"column\": \"hemo\",\n      \"properties\": {\n        \"dtype\": \"number\",\n        \"std\": 119.40085837792167,\n        \"min\": 2.9125866088267647,\n        \"max\": 348.0,\n        \"num_unique_values\": 8,\n        \"samples\": [\n          12.526436781609195,\n          12.649999999999999,\n          348.0\n        ],\n        \"semantic_type\": \"\",\n        \"description\": \"\"\n      }\n    },\n    {\n      \"column\": \"pcv\",\n      \"properties\": {\n        \"dtype\": \"number\",\n        \"std\": 106.04322618110021,\n        \"min\": 8.990104814740938,\n        \"max\": 329.0,\n        \"num_unique_values\": 8,\n        \"samples\": [\n          38.88449848024316,\n          40.0,\n          329.0\n        ],\n        \"semantic_type\": \"\",\n        \"description\": \"\"\n      }\n    },\n    {\n      \"column\": \"wbcc\",\n      \"properties\": {\n        \"dtype\": \"number\",\n        \"std\": 8130.705816027975,\n        \"min\": 294.0,\n        \"max\": 26400.0,\n        \"num_unique_values\": 8,\n        \"samples\": [\n          8406.122448979591,\n          8000.0,\n          294.0\n        ],\n        \"semantic_type\": \"\",\n        \"description\": \"\"\n      }\n    },\n    {\n      \"column\": \"rbcc\",\n      \"properties\": {\n        \"dtype\": \"number\",\n        \"std\": 93.61771199189938,\n        \"min\": 1.0253232655721793,\n        \"max\": 269.0,\n        \"num_unique_values\": 8,\n        \"samples\": [\n          4.707434944237917,\n          4.8,\n          269.0\n        ],\n        \"semantic_type\": \"\",\n        \"description\": \"\"\n      }\n    }\n  ]\n}"
            }
          },
          "metadata": {},
          "execution_count": 226
        }
      ]
    },
    {
      "cell_type": "markdown",
      "source": [
        "**Identify Missing Values**"
      ],
      "metadata": {
        "id": "kEpre1L-ZdQa"
      }
    },
    {
      "cell_type": "code",
      "source": [
        "# Count missing values in each column:\n",
        "print(\"Missing Values:\\n\", df.isnull().sum())"
      ],
      "metadata": {
        "colab": {
          "base_uri": "https://localhost:8080/"
        },
        "id": "PXSKjx4lZhB3",
        "outputId": "e1dc9c0c-7db4-4234-b21b-11674a877e59"
      },
      "execution_count": null,
      "outputs": [
        {
          "output_type": "stream",
          "name": "stdout",
          "text": [
            "Missing Values:\n",
            " age         9\n",
            "bp         12\n",
            "sg         47\n",
            "al         46\n",
            "su         49\n",
            "rbc       152\n",
            "pc         65\n",
            "pcc         4\n",
            "ba          4\n",
            "bgr        44\n",
            "bu         19\n",
            "sc         17\n",
            "sod        87\n",
            "pot        88\n",
            "hemo       52\n",
            "pcv        71\n",
            "wbcc      106\n",
            "rbcc      131\n",
            "htn         2\n",
            "dm          2\n",
            "cad         2\n",
            "appet       1\n",
            "pe          1\n",
            "ane         1\n",
            "target      0\n",
            "dtype: int64\n"
          ]
        }
      ]
    },
    {
      "cell_type": "code",
      "source": [
        "# Visualizing missing values\n",
        "\n",
        "fig, ax = plt.subplots(figsize=(8, 4))\n",
        "msno.matrix(df, ax=ax, sparkline=False)\n",
        "plt.title(\"Missing Values Matrix \", fontsize=12)\n",
        "ax.tick_params(axis='x', labelsize=10)\n",
        "ax.tick_params(axis='y', labelsize=10)\n",
        "plt.show()\n"
      ],
      "metadata": {
        "colab": {
          "base_uri": "https://localhost:8080/",
          "height": 425
        },
        "id": "P13EVK1XZxTy",
        "outputId": "70101e08-cfb7-454d-ee7d-3490da31f5e8"
      },
      "execution_count": null,
      "outputs": [
        {
          "output_type": "display_data",
          "data": {
            "text/plain": [
              "<Figure size 800x400 with 1 Axes>"
            ],
            "image/png": "[encoded data removed]"
          },
          "metadata": {}
        }
      ]
    },
    {
      "cell_type": "markdown",
      "source": [
        "**Identify Duplicates**"
      ],
      "metadata": {
        "id": "rKhaf91vpelk"
      }
    },
    {
      "cell_type": "code",
      "source": [
        "#Check for duplicate entries:\n",
        "print(\"Duplicates:\", df.duplicated().sum())"
      ],
      "metadata": {
        "colab": {
          "base_uri": "https://localhost:8080/"
        },
        "id": "6ZdEMSeApmob",
        "outputId": "c8dafbd3-fac2-4588-f989-5b6266a992a3"
      },
      "execution_count": null,
      "outputs": [
        {
          "output_type": "stream",
          "name": "stdout",
          "text": [
            "Duplicates: 0\n"
          ]
        }
      ]
    },
    {
      "cell_type": "markdown",
      "source": [
        "**Identify Outliers**"
      ],
      "metadata": {
        "id": "3XWNlUyPn97j"
      }
    },
    {
      "cell_type": "code",
      "source": [
        "plt.figure(figsize=(12, 6))\n",
        "\n",
        "# Calculate the number of rows and columns for the subplots\n",
        "numeric_cols = df.select_dtypes(include=[np.number]).columns\n",
        "num_plots = len(numeric_cols)\n",
        "num_cols = 5\n",
        "num_rows = (num_plots // num_cols) + (1 if num_plots % num_cols != 0 else 0)\n",
        "\n",
        "# Plot boxplots dynamically based on the number of features\n",
        "for i, col in enumerate(numeric_cols, 1):\n",
        "    plt.subplot(num_rows, num_cols, i)\n",
        "    sns.boxplot(x=df[col])\n",
        "    plt.title(f\"Boxplot of {col}\")\n",
        "\n",
        "plt.tight_layout()\n",
        "plt.show()"
      ],
      "metadata": {
        "colab": {
          "base_uri": "https://localhost:8080/",
          "height": 607
        },
        "id": "8IUKbm7BoEqD",
        "outputId": "956e324c-37de-48be-ae28-b946273e24be"
      },
      "execution_count": null,
      "outputs": [
        {
          "output_type": "display_data",
          "data": {
            "text/plain": [
              "<Figure size 1200x600 with 14 Axes>"
            ],
            "image/png": "[encoded data removed]"
          },
          "metadata": {}
        }
      ]
    },
    {
      "cell_type": "markdown",
      "source": [
        "**Data Distribution**\n",
        "\n",
        "1. Numerical Features:\n",
        "Visualize the distribution of numerical features\n",
        "\n"
      ],
      "metadata": {
        "id": "vl3Fp3MuiaLF"
      }
    },
    {
      "cell_type": "code",
      "source": [
        "# Visualize the distribution of numerical features\n",
        "df.hist(figsize=(14, 11))\n",
        "plt.show()"
      ],
      "metadata": {
        "colab": {
          "base_uri": "https://localhost:8080/",
          "height": 930
        },
        "id": "dRmOQjOWiZuQ",
        "outputId": "8b1fecb8-c130-4db7-e7bc-b8d645e5b0ef"
      },
      "execution_count": null,
      "outputs": [
        {
          "output_type": "display_data",
          "data": {
            "text/plain": [
              "<Figure size 1400x1100 with 16 Axes>"
            ],
            "image/png": "[encoded data removed]"
          },
          "metadata": {}
        }
      ]
    },
    {
      "cell_type": "markdown",
      "source": [
        "2.Categorical Features:\n",
        "Visualize the frequency distribution of categorical features"
      ],
      "metadata": {
        "id": "oKQ7U6uUyqG2"
      }
    },
    {
      "cell_type": "code",
      "source": [
        "# Visualize the frequency distribution of categorical features\n",
        "\n",
        "# Get all categorical columns\n",
        "categorical_cols = df.select_dtypes(exclude=[np.number]).columns\n",
        "warnings.filterwarnings(\"ignore\", category=UserWarning, message=\".*Glyph 9.*\")\n",
        "plt.figure(figsize=(12,8))\n",
        "plotnumber = 1\n",
        "\n",
        "for column in categorical_cols:\n",
        "    if plotnumber <= len(categorical_cols):\n",
        "        ax = plt.subplot(3, 4, plotnumber)\n",
        "        sns.countplot(x=column, data=df, palette='rocket', hue=column, legend=False)\n",
        "        plt.xlabel(column)\n",
        "        plt.title(f\"Count Plot for {column}\")\n",
        "        plotnumber += 1\n",
        "\n",
        "plt.tight_layout()\n",
        "plt.show()\n"
      ],
      "metadata": {
        "colab": {
          "base_uri": "https://localhost:8080/",
          "height": 807
        },
        "id": "Er6fuxcUpZVj",
        "outputId": "74375db3-92b3-4a1c-f427-ed820a381aa1"
      },
      "execution_count": null,
      "outputs": [
        {
          "output_type": "display_data",
          "data": {
            "text/plain": [
              "<Figure size 1200x800 with 11 Axes>"
            ],
            "image/png": "[encoded data removed]"
          },
          "metadata": {}
        }
      ]
    },
    {
      "cell_type": "markdown",
      "source": [
        "##**Section 4: Data Preprocessing**\n",
        "\n",
        "In this section, we:\n",
        "- Handle missing values by filling them with appropriate statistics (mean/median/mode)\n",
        "- Standardize numerical features\n",
        "- Encode categorical variables into numerical format for compatibility with the model.\n",
        "- Split the dataset into training and testing sets for model evaluation.\n"
      ],
      "metadata": {
        "id": "XXo0vbbiL5yY"
      }
    },
    {
      "cell_type": "markdown",
      "source": [
        "**Handle Missing Values**"
      ],
      "metadata": {
        "id": "vHw1G1GwrE8o"
      }
    },
    {
      "cell_type": "code",
      "source": [
        "# Separate numeric and categorical columns\n",
        "numeric_cols = df.select_dtypes(include=[np.number]).columns\n",
        "categorical_cols = df.select_dtypes(exclude=[np.number]).columns\n",
        "\n",
        "# Impute numeric columns with the mean\n",
        "imputer_numeric = SimpleImputer(strategy='mean')\n",
        "df[numeric_cols] = imputer_numeric.fit_transform(df[numeric_cols])\n",
        "\n",
        "# Impute categorical/boolean columns with the most frequent value\n",
        "imputer_categorical = SimpleImputer(strategy='most_frequent')\n",
        "df[categorical_cols] = imputer_categorical.fit_transform(df[categorical_cols])\n",
        "\n",
        "# Check if any missing values remain after imputation\n",
        "print(\"Check Missing Values (After imputation):\\n\", df.isnull().sum())"
      ],
      "metadata": {
        "colab": {
          "base_uri": "https://localhost:8080/"
        },
        "id": "ffNrBC_HuLOv",
        "outputId": "d75e82fb-50c7-4e44-ec7b-25d46b45d43f"
      },
      "execution_count": null,
      "outputs": [
        {
          "output_type": "stream",
          "name": "stdout",
          "text": [
            "Check Missing Values (After imputation):\n",
            " age       0\n",
            "bp        0\n",
            "sg        0\n",
            "al        0\n",
            "su        0\n",
            "rbc       0\n",
            "pc        0\n",
            "pcc       0\n",
            "ba        0\n",
            "bgr       0\n",
            "bu        0\n",
            "sc        0\n",
            "sod       0\n",
            "pot       0\n",
            "hemo      0\n",
            "pcv       0\n",
            "wbcc      0\n",
            "rbcc      0\n",
            "htn       0\n",
            "dm        0\n",
            "cad       0\n",
            "appet     0\n",
            "pe        0\n",
            "ane       0\n",
            "target    0\n",
            "dtype: int64\n"
          ]
        }
      ]
    },
    {
      "cell_type": "markdown",
      "source": [
        "**Handle Outliers**"
      ],
      "metadata": {
        "id": "DULw4nqGtW1m"
      }
    },
    {
      "cell_type": "code",
      "source": [
        "# Detecting outliers using IQR (Interquartile Range)\n",
        "Q1 = df[numeric_cols].quantile(0.25)\n",
        "Q3 = df[numeric_cols].quantile(0.75)\n",
        "IQR = Q3 - Q1\n",
        "\n",
        "# Define the lower and upper bounds for outliers\n",
        "lower_bound = Q1 - 1.5 * IQR\n",
        "upper_bound = Q3 + 1.5 * IQR\n",
        "\n",
        "# Create a boolean DataFrame to identify outliers\n",
        "outliers_condition = (df[numeric_cols] < lower_bound) | (df[numeric_cols] > upper_bound)\n",
        "\n",
        "# Count outliers per feature\n",
        "outliers_count = outliers_condition.sum()\n",
        "print(\"Outliers count per feature:\")\n",
        "print(outliers_count)"
      ],
      "metadata": {
        "colab": {
          "base_uri": "https://localhost:8080/"
        },
        "id": "TcJfxIpcn0uv",
        "outputId": "3e0ee7f7-8d6b-4089-9ff9-fcd2a90d36a3"
      },
      "execution_count": null,
      "outputs": [
        {
          "output_type": "stream",
          "name": "stdout",
          "text": [
            "Outliers count per feature:\n",
            "age     10\n",
            "bp      36\n",
            "sg       7\n",
            "al       0\n",
            "su      48\n",
            "bgr     53\n",
            "bu      41\n",
            "sc      44\n",
            "sod     18\n",
            "pot     14\n",
            "hemo     2\n",
            "pcv      6\n",
            "wbcc    17\n",
            "rbcc    75\n",
            "dtype: int64\n"
          ]
        }
      ]
    },
    {
      "cell_type": "code",
      "source": [
        "# Check summary statistics before replacing outliers\n",
        "print(\"Summary Statistics Before Replacement:\")\n",
        "print(df[numeric_cols].describe())"
      ],
      "metadata": {
        "colab": {
          "base_uri": "https://localhost:8080/"
        },
        "id": "spa4QOC562lt",
        "outputId": "831fa311-db9d-47a0-b552-c93b8bd917e0"
      },
      "execution_count": null,
      "outputs": [
        {
          "output_type": "stream",
          "name": "stdout",
          "text": [
            "Summary Statistics Before Replacement:\n",
            "              age          bp          sg          al          su         bgr  \\\n",
            "count  400.000000  400.000000  400.000000  400.000000  400.000000  400.000000   \n",
            "mean    51.483376   76.469072    1.017408    1.016949    0.450142  148.036517   \n",
            "std     16.974966   13.476298    0.005369    1.272318    1.029487   74.782634   \n",
            "min      2.000000   50.000000    1.005000    0.000000    0.000000   22.000000   \n",
            "25%     42.000000   70.000000    1.015000    0.000000    0.000000  101.000000   \n",
            "50%     54.000000   78.234536    1.017408    1.000000    0.000000  126.000000   \n",
            "75%     64.000000   80.000000    1.020000    2.000000    0.450142  150.000000   \n",
            "max     90.000000  180.000000    1.025000    5.000000    5.000000  490.000000   \n",
            "\n",
            "               bu          sc         sod         pot        hemo         pcv  \\\n",
            "count  400.000000  400.000000  400.000000  400.000000  400.000000  400.000000   \n",
            "mean    57.425722    3.072454  137.528754    4.627244   12.526437   38.884498   \n",
            "std     49.285887    5.617490    9.204273    2.819783    2.716171    8.151081   \n",
            "min      1.500000    0.400000    4.500000    2.500000    3.100000    9.000000   \n",
            "25%     27.000000    0.900000  135.000000    4.000000   10.875000   34.000000   \n",
            "50%     44.000000    1.400000  137.528754    4.627244   12.526437   38.884498   \n",
            "75%     61.750000    3.072454  141.000000    4.800000   14.625000   44.000000   \n",
            "max    391.000000   76.000000  163.000000   47.000000   17.800000   54.000000   \n",
            "\n",
            "               wbcc        rbcc  \n",
            "count    400.000000  400.000000  \n",
            "mean    8406.122449    4.707435  \n",
            "std     2523.219976    0.840314  \n",
            "min     2200.000000    2.100000  \n",
            "25%     6975.000000    4.500000  \n",
            "50%     8406.122449    4.707435  \n",
            "75%     9400.000000    5.100000  \n",
            "max    26400.000000    8.000000  \n"
          ]
        }
      ]
    },
    {
      "cell_type": "code",
      "source": [
        "# Replace outliers with the lower or upper bound values\n",
        "for col in numeric_cols:\n",
        "    df[col] = np.where(df[col] < lower_bound[col], lower_bound[col], df[col])\n",
        "    df[col] = np.where(df[col] > upper_bound[col], upper_bound[col], df[col])"
      ],
      "metadata": {
        "id": "2NlRQIAZ6ZNM"
      },
      "execution_count": null,
      "outputs": []
    },
    {
      "cell_type": "code",
      "source": [
        "# Check summary statistics after replacing outliers\n",
        "print(\"Summary Statistics After Replacement:\")\n",
        "print(df[numeric_cols].describe())"
      ],
      "metadata": {
        "colab": {
          "base_uri": "https://localhost:8080/"
        },
        "id": "NXmCjywd7AdZ",
        "outputId": "9c659a3d-6405-4242-ace3-250cfdd9c03c"
      },
      "execution_count": null,
      "outputs": [
        {
          "output_type": "stream",
          "name": "stdout",
          "text": [
            "Summary Statistics After Replacement:\n",
            "              age          bp          sg          al          su         bgr  \\\n",
            "count  400.000000  400.000000  400.000000  400.000000  400.000000  400.000000   \n",
            "mean    51.568376   75.719072    1.017452    1.016949    0.222685  136.985267   \n",
            "std     16.748312   10.947479    0.005277    1.272318    0.400131   46.028992   \n",
            "min      9.000000   55.000000    1.007500    0.000000    0.000000   27.500000   \n",
            "25%     42.000000   70.000000    1.015000    0.000000    0.000000  101.000000   \n",
            "50%     54.000000   78.234536    1.017408    1.000000    0.000000  126.000000   \n",
            "75%     64.000000   80.000000    1.020000    2.000000    0.450142  150.000000   \n",
            "max     90.000000   95.000000    1.025000    5.000000    1.125356  223.500000   \n",
            "\n",
            "               bu          sc         sod         pot        hemo         pcv  \\\n",
            "count  400.000000  400.000000  400.000000  400.000000  400.000000  400.000000   \n",
            "mean    51.010409    2.254129  138.115004    4.432744   12.532937   38.946998   \n",
            "std     30.261358    1.861203    5.281317    0.643583    2.696409    7.972198   \n",
            "min      1.500000    0.400000  126.000000    2.800000    5.250000   19.000000   \n",
            "25%     27.000000    0.900000  135.000000    4.000000   10.875000   34.000000   \n",
            "50%     44.000000    1.400000  137.528754    4.627244   12.526437   38.884498   \n",
            "75%     61.750000    3.072454  141.000000    4.800000   14.625000   44.000000   \n",
            "max    113.875000    6.331136  150.000000    6.000000   17.800000   54.000000   \n",
            "\n",
            "               wbcc        rbcc  \n",
            "count    400.000000  400.000000  \n",
            "mean    8276.716199    4.739435  \n",
            "std     2029.666146    0.674872  \n",
            "min     3337.500000    3.600000  \n",
            "25%     6975.000000    4.500000  \n",
            "50%     8406.122449    4.707435  \n",
            "75%     9400.000000    5.100000  \n",
            "max    13037.500000    6.000000  \n"
          ]
        }
      ]
    },
    {
      "cell_type": "code",
      "source": [
        "# Visualize the distributions of numeric columns again\n",
        "plt.figure(figsize=(12, 6))\n",
        "for i, col in enumerate(numeric_cols, 1):\n",
        "    plt.subplot(num_rows, num_cols, i)\n",
        "    sns.boxplot(x=df[col])\n",
        "    plt.title(f\"Boxplot of {col}\")\n",
        "\n",
        "plt.tight_layout()\n",
        "plt.show()"
      ],
      "metadata": {
        "colab": {
          "base_uri": "https://localhost:8080/",
          "height": 607
        },
        "id": "56SB3zAz7a3A",
        "outputId": "c5bc0e01-a985-4078-b673-da83244a3d20"
      },
      "execution_count": null,
      "outputs": [
        {
          "output_type": "display_data",
          "data": {
            "text/plain": [
              "<Figure size 1200x600 with 14 Axes>"
            ],
            "image/png": "[encoded data removed]"
          },
          "metadata": {}
        }
      ]
    },
    {
      "cell_type": "markdown",
      "source": [
        "**Check and Clean Categorical Columns (Before Encoding)**\n",
        "\n",
        "Inspect the unique values in categorical columns to identify inconsistencies or unexpected entries."
      ],
      "metadata": {
        "id": "JlZ2ZLVcGcGX"
      }
    },
    {
      "cell_type": "code",
      "source": [
        "# List of categorical features\n",
        "categorical_cols = ['rbc', 'pc', 'pcc', 'ba', 'htn', 'dm', 'cad', 'appet', 'pe', 'ane','target']\n",
        "\n",
        "# Check unique values for each categorical features\n",
        "for col in categorical_cols:\n",
        "    print(f\"Unique values in {col}: {df[col].unique()}\")"
      ],
      "metadata": {
        "colab": {
          "base_uri": "https://localhost:8080/"
        },
        "id": "5cVHg2shGh96",
        "outputId": "5e2e432f-7f71-4da6-fe25-c406761e0da9"
      },
      "execution_count": null,
      "outputs": [
        {
          "output_type": "stream",
          "name": "stdout",
          "text": [
            "Unique values in rbc: ['normal' 'abnormal']\n",
            "Unique values in pc: ['normal' 'abnormal']\n",
            "Unique values in pcc: ['notpresent' 'present']\n",
            "Unique values in ba: ['notpresent' 'present']\n",
            "Unique values in htn: ['yes' 'no']\n",
            "Unique values in dm: ['yes' 'no' '\\tno']\n",
            "Unique values in cad: ['no' 'yes']\n",
            "Unique values in appet: ['good' 'poor']\n",
            "Unique values in pe: ['no' 'yes']\n",
            "Unique values in ane: ['no' 'yes']\n",
            "Unique values in target: ['ckd' 'ckd\\t' 'notckd']\n"
          ]
        }
      ]
    },
    {
      "cell_type": "markdown",
      "source": [
        "Issues Identified :\n",
        "\n",
        "- `dm` column : The value `'\\tno'` is present, which is likely caused by a tab character before the value `no`.\n",
        "- `target` column: The value `'ckd\\t'` has a tab character after the value `ckd`, causing inconsistency in the dataset.\n",
        "\n",
        "Handle These Issues :\n",
        "\n",
        "- Remove Leading/Trailing Whitespace:\n",
        "  Strip any unwanted spaces, tabs, or newline characters from the values in the columns.\n",
        "- `'\\tno'` will be cleaned to `'no'`.\n",
        "- `'ckd\\t'` will be cleaned to `'ckd'`."
      ],
      "metadata": {
        "id": "Dor0X0DKdlQQ"
      }
    },
    {
      "cell_type": "code",
      "source": [
        "# Strip leading/trailing whitespace from the relevant columns\n",
        "df['dm'] = df['dm'].str.strip()\n",
        "df['target'] = df['target'].str.strip()\n",
        "\n",
        "print(f\"Unique values in `dm`: {df['dm'].unique()}\")\n",
        "print(f\"Unique values in `target`: {df['target'].unique()}\")"
      ],
      "metadata": {
        "colab": {
          "base_uri": "https://localhost:8080/"
        },
        "id": "F47aued_b3hC",
        "outputId": "56201e7e-5ec8-4aee-be24-78cd2d089d71"
      },
      "execution_count": null,
      "outputs": [
        {
          "output_type": "stream",
          "name": "stdout",
          "text": [
            "Unique values in `dm`: ['yes' 'no']\n",
            "Unique values in `target`: ['ckd' 'notckd']\n"
          ]
        }
      ]
    },
    {
      "cell_type": "markdown",
      "source": [
        "**Convert Categorical Data to Numeric**"
      ],
      "metadata": {
        "id": "-yTvCvqprI-r"
      }
    },
    {
      "cell_type": "code",
      "source": [
        "from sklearn.preprocessing import LabelEncoder\n",
        "\n",
        "categorical_cols = ['rbc', 'pc', 'pcc', 'ba', 'htn', 'dm', 'cad', 'appet', 'pe', 'ane','target']\n",
        "\n",
        "# Initialize LabelEncoder\n",
        "label_encoder = LabelEncoder()\n",
        "\n",
        "# Apply LabelEncoder to each categorical features\n",
        "for col in categorical_cols:\n",
        "    df[col] = label_encoder.fit_transform(df[col])\n",
        "\n",
        "print(df[categorical_cols].head())\n"
      ],
      "metadata": {
        "colab": {
          "base_uri": "https://localhost:8080/"
        },
        "id": "G3CE5caGuKbs",
        "outputId": "d9008280-3561-4d7e-9fe8-1b7c9067d6be"
      },
      "execution_count": null,
      "outputs": [
        {
          "output_type": "stream",
          "name": "stdout",
          "text": [
            "   rbc  pc  pcc  ba  htn  dm  cad  appet  pe  ane  target\n",
            "0    1   1    0   0    1   1    0      0   0    0       0\n",
            "1    1   1    0   0    0   0    0      0   0    0       0\n",
            "2    1   1    0   0    0   1    0      1   0    1       0\n",
            "3    1   0    1   0    1   0    0      1   1    1       0\n",
            "4    1   1    0   0    0   0    0      0   0    0       0\n"
          ]
        }
      ]
    },
    {
      "cell_type": "markdown",
      "source": [
        "**Train-Test Split**"
      ],
      "metadata": {
        "id": "xOSISi74rJIA"
      }
    },
    {
      "cell_type": "code",
      "source": [
        "# Split the data into training and testing sets\n",
        "X_train, X_test, y_train, y_test = train_test_split(df.drop('target', axis=1), df['target'], test_size=0.2, random_state=42)"
      ],
      "metadata": {
        "id": "WjIudFfVlHFP"
      },
      "execution_count": null,
      "outputs": []
    },
    {
      "cell_type": "markdown",
      "source": [
        "**Feature Scaling / Normalization**\n",
        "\n",
        "Perform normalization/standardization after the train-test split.\n",
        "\n",
        "- Normalizing the entire dataset before splitting can lead to data leakage, where information from the test set influences the training process, resulting in biased performance estimates.\n",
        "- The test set should evaluate how well the model generalizes to unseen data. Normalizing after splitting ensures that the test set remains independent of the training process."
      ],
      "metadata": {
        "id": "e5XkCxv3rJEF"
      }
    },
    {
      "cell_type": "code",
      "source": [
        "# Initialize the StandardScaler\n",
        "scaler = StandardScaler()\n",
        "\n",
        "# Fit the scaler on the training data and transform it\n",
        "X_train = scaler.fit_transform(X_train)\n",
        "\n",
        "# Transform the test data using the same scaler (do not fit on test data)\n",
        "X_test = scaler.transform(X_test)"
      ],
      "metadata": {
        "id": "6mgJRWaUuJQs"
      },
      "execution_count": null,
      "outputs": []
    },
    {
      "cell_type": "markdown",
      "source": [
        "##**Section 5: Building and Training the MLP Model**\n",
        "\n",
        "In this section, we will build a Multilayer Perceptron (MLP) model using a feedforward neural network architecture. The MLP consists of an input layer, one hidden layer, and an output layer."
      ],
      "metadata": {
        "id": "u9k7vSPkL57Y"
      }
    },
    {
      "cell_type": "code",
      "source": [
        "class FFSNNetwork:\n",
        "\n",
        "  def __init__(self, n_inputs, hidden_sizes=[2]):\n",
        "    #intialize the inputs\n",
        "    self.nx = n_inputs\n",
        "    self.ny = 1\n",
        "    self.nh = len(hidden_sizes)\n",
        "    self.sizes = [self.nx] + hidden_sizes + [self.ny]\n",
        "\n",
        "    self.W = {}\n",
        "    self.B = {}\n",
        "    for i in range(self.nh+1):\n",
        "      self.W[i+1] = np.random.randn(self.sizes[i], self.sizes[i+1])\n",
        "      self.B[i+1] = np.zeros((1, self.sizes[i+1]))\n",
        "\n",
        "  def sigmoid(self, x):\n",
        "    return 1.0/(1.0 + np.exp(-x))\n",
        "\n",
        "  def forward_pass(self, x):\n",
        "    self.A = {}\n",
        "    self.H = {}\n",
        "    self.H[0] = x.reshape(1, -1)\n",
        "    for i in range(self.nh+1):\n",
        "      self.A[i+1] = np.matmul(self.H[i], self.W[i+1]) + self.B[i+1]\n",
        "      self.H[i+1] = self.sigmoid(self.A[i+1])\n",
        "    return self.H[self.nh+1]\n",
        "\n",
        "  def grad_sigmoid(self, x):\n",
        "    return x*(1-x)\n",
        "\n",
        "  def grad(self, x, y):\n",
        "    self.forward_pass(x)\n",
        "    self.dW = {}\n",
        "    self.dB = {}\n",
        "    self.dH = {}\n",
        "    self.dA = {}\n",
        "    L = self.nh + 1\n",
        "    self.dA[L] = (self.H[L] - y)\n",
        "    for k in range(L, 0, -1):\n",
        "      self.dW[k] = np.matmul(self.H[k-1].T, self.dA[k])\n",
        "      self.dB[k] = self.dA[k]\n",
        "      self.dH[k-1] = np.matmul(self.dA[k], self.W[k].T)\n",
        "      self.dA[k-1] = np.multiply(self.dH[k-1], self.grad_sigmoid(self.H[k-1]))\n",
        "\n",
        "  def fit(self, X, Y, epochs=1, learning_rate=1, initialise=True, display_loss=False):\n",
        "\n",
        "    # initialise w, b\n",
        "    if initialise:\n",
        "      for i in range(self.nh+1):\n",
        "        self.W[i+1] = np.random.randn(self.sizes[i], self.sizes[i+1])\n",
        "        self.B[i+1] = np.zeros((1, self.sizes[i+1]))\n",
        "\n",
        "    if display_loss:\n",
        "      loss = {}\n",
        "\n",
        "    for e in tqdm(range(epochs), total=epochs, unit=\"epoch\"):\n",
        "      dW = {}\n",
        "      dB = {}\n",
        "      for i in range(self.nh+1):\n",
        "        dW[i+1] = np.zeros((self.sizes[i], self.sizes[i+1]))\n",
        "        dB[i+1] = np.zeros((1, self.sizes[i+1]))\n",
        "      for x, y in zip(X, Y):\n",
        "        self.grad(x, y)\n",
        "        for i in range(self.nh+1):\n",
        "          dW[i+1] += self.dW[i+1]\n",
        "          dB[i+1] += self.dB[i+1]\n",
        "\n",
        "      m = X.shape[1]\n",
        "      for i in range(self.nh+1):\n",
        "        self.W[i+1] -= learning_rate * dW[i+1] / m\n",
        "        self.B[i+1] -= learning_rate * dB[i+1] / m\n",
        "\n",
        "      if display_loss:\n",
        "        Y_pred = self.predict(X)\n",
        "        loss[e] = mean_squared_error(Y_pred, Y)\n",
        "\n",
        "    if display_loss:\n",
        "      plt.plot(loss.values())\n",
        "      plt.title('Loss Function')\n",
        "      plt.xlabel('Epochs')\n",
        "      plt.ylabel('Mean Squared Error')\n",
        "      plt.show()\n",
        "\n",
        "  def predict(self, X):\n",
        "    Y_pred = []\n",
        "    for x in X:\n",
        "      y_pred = self.forward_pass(x)\n",
        "      Y_pred.append(y_pred)\n",
        "    return np.array(Y_pred).squeeze()"
      ],
      "metadata": {
        "id": "bWcM8p5Jm7oZ"
      },
      "execution_count": null,
      "outputs": []
    },
    {
      "cell_type": "markdown",
      "source": [
        "##**Section 6: Training and Evaluation**\n",
        "\n",
        "In this section, we:\n",
        "- Train the model on the preprocessed training data.\n",
        "- Evaluate the model's performance on the test set using accuracy, precision, recall, and F1-score.\n",
        "- Visualize the results using a confusion matrix to show classification performance.\n",
        "\n",
        "The feedforward neural network (FFNN) was set up with a single hidden layer comprising 14 neurons, utilizing the sigmoid activation function during the forward pass.\n",
        "The network was trained with a learning rate of 0.01 over 2000 epochs."
      ],
      "metadata": {
        "id": "s_I184zUL6D8"
      }
    },
    {
      "cell_type": "code",
      "source": [
        "from sklearn.metrics import accuracy_score\n",
        "\n",
        "# Instantiate the model with 24 inputs and 1 hidden layer\n",
        "ffsnn = FFSNNetwork(24, [14])\n",
        "\n",
        "# Train the model\n",
        "ffsnn.fit(X_train, y_train, epochs=2000, learning_rate=0.01, display_loss=True)\n",
        "\n",
        "# Predict on training and testing data\n",
        "y_pred_train = ffsnn.predict(X_train)\n",
        "y_pred_binarised_train = (y_pred_train >= 0.5).astype(\"int\").ravel()\n",
        "y_pred_test = ffsnn.predict(X_test)\n",
        "y_pred_binarised_test = (y_pred_test >= 0.5).astype(\"int\").ravel()\n",
        "\n",
        "# Calculate accuracy\n",
        "accuracy_train = accuracy_score(y_pred_binarised_train, y_pred=y_train)\n",
        "accuracy_test = accuracy_score(y_pred_binarised_test, y_test)\n",
        "\n",
        "display(Markdown(f\"**Training accuracy: {round(accuracy_train, 2)}**\"))\n",
        "display(Markdown(f\"**Testing (Validation) accuracy: {round(accuracy_test, 2)}**\"))\n",
        "\n",
        "print(f\"\\nClassification Report(On Test Data) :-\\n\\n {classification_report(y_test, y_pred_binarised_test)}\")\n"
      ],
      "metadata": {
        "colab": {
          "base_uri": "https://localhost:8080/",
          "height": 765,
          "referenced_widgets": [
            "b7b47826941e495e8898c921d87646bb",
            "53d04d32e3ed431abd297bb724317f11",
            "7a33521fcb1b4c02a69603abec75f8ce",
            "025b1b8ef9484c33ab39688a91d5a75b",
            "a3d8b466daa34f4a975fb7b28426e785",
            "96c17058ca7e479386262dc4b285e1c4",
            "4dc71aa921914b5697b4b553c88730f6",
            "3bd5d27e7da54257b4e959a47729b002",
            "6a3796b94e464943b6175770639087af",
            "dcbac36ef0574083897d8c9a2bde7658",
            "3db739e981d34feeb218981638025e85"
          ]
        },
        "id": "9dmeMGLunL7r",
        "outputId": "2ec2a3d6-a6fa-40fe-d90f-6876384561f1"
      },
      "execution_count": null,
      "outputs": [
        {
          "output_type": "display_data",
          "data": {
            "text/plain": [
              "  0%|          | 0/2000 [00:00<?, ?epoch/s]"
            ],
            "application/vnd.jupyter.widget-view+json": {
              "version_major": 2,
              "version_minor": 0,
              "model_id": "b7b47826941e495e8898c921d87646bb"
            }
          },
          "metadata": {}
        },
        {
          "output_type": "display_data",
          "data": {
            "text/plain": [
              "<Figure size 640x480 with 1 Axes>"
            ],
            "image/png": "[encoded data removed]"
          },
          "metadata": {}
        },
        {
          "output_type": "display_data",
          "data": {
            "text/plain": [
              "<IPython.core.display.Markdown object>"
            ],
            "text/markdown": "**Training accuracy: 1.0**"
          },
          "metadata": {}
        },
        {
          "output_type": "display_data",
          "data": {
            "text/plain": [
              "<IPython.core.display.Markdown object>"
            ],
            "text/markdown": "**Testing (Validation) accuracy: 0.99**"
          },
          "metadata": {}
        },
        {
          "output_type": "stream",
          "name": "stdout",
          "text": [
            "\n",
            "Classification Report(On Test Data) :-\n",
            "\n",
            "               precision    recall  f1-score   support\n",
            "\n",
            "           0       1.00      0.98      0.99        52\n",
            "           1       0.97      1.00      0.98        28\n",
            "\n",
            "    accuracy                           0.99        80\n",
            "   macro avg       0.98      0.99      0.99        80\n",
            "weighted avg       0.99      0.99      0.99        80\n",
            "\n"
          ]
        }
      ]
    },
    {
      "cell_type": "markdown",
      "source": [
        "**Confusion Matrix**"
      ],
      "metadata": {
        "id": "QgiN9nfNoXe5"
      }
    },
    {
      "cell_type": "code",
      "source": [
        "# Calculate confusion matrices\n",
        "\n",
        "conf_matrix_train = confusion_matrix(y_train, y_pred_binarised_train)\n",
        "conf_matrix_test = confusion_matrix(y_test, y_pred_binarised_test)\n",
        "\n",
        "disp_train = ConfusionMatrixDisplay(confusion_matrix=conf_matrix_train)\n",
        "disp_test = ConfusionMatrixDisplay(confusion_matrix=conf_matrix_test)\n",
        "\n",
        "\n",
        "# Create a figure with 1 row and 2 columns\n",
        "fig, (ax1, ax2) = plt.subplots(1, 2, figsize=(5, 2))  # Adjust the size as needed\n",
        "\n",
        "# Plot the confusion matrix for training\n",
        "disp_train.plot(cmap='Blues', ax=ax1)\n",
        "ax1.set_title('Confusion Matrix (Training)')\n",
        "\n",
        "# Plot the confusion matrix for testing\n",
        "disp_test.plot(cmap='Blues', ax=ax2)\n",
        "ax2.set_title('Confusion Matrix (Testing)')\n",
        "\n",
        "# Adjust the layout to minimize white space\n",
        "plt.subplots_adjust(left=0.1, right=1.4, top=1, bottom=0.1)\n",
        "plt.show()\n",
        "\n"
      ],
      "metadata": {
        "colab": {
          "base_uri": "https://localhost:8080/",
          "height": 282
        },
        "id": "bB5MACRaoTq2",
        "outputId": "a8073211-ede7-4d94-f071-528d07c91091"
      },
      "execution_count": null,
      "outputs": [
        {
          "output_type": "display_data",
          "data": {
            "text/plain": [
              "<Figure size 500x200 with 4 Axes>"
            ],
            "image/png": "[encoded data removed]"
          },
          "metadata": {}
        }
      ]
    },
    {
      "cell_type": "markdown",
      "source": [
        "##**Section 7:Effects of the number of hidden layers, neurons and standardizing the input attributes on the classification accuracy.**\n",
        "\n",
        "\n",
        "\n",
        "\n",
        "\n"
      ],
      "metadata": {
        "id": "iRSQ_K98L6LP"
      }
    },
    {
      "cell_type": "markdown",
      "source": [
        "### 1. Effect of Standardizing Input Attributes\n",
        "\n",
        "**Raw Features:**\n",
        "- If the features have different scales (e.g., some features range from 0 to 1 while others range from 1000 to 10000), the model might struggle to learn efficiently. Neural networks are sensitive to the scale of input features because they rely on gradient-based optimization, and features with large variances might dominate the learning process.\n",
        "\n",
        "\n",
        "**Standardized Features:**\n",
        "- Standardizing the input features (scaling them to have zero mean and unit variance) helps in speeding up the training process and improving the convergence of the model.\n",
        "- Standardization is particularly important when using activation functions like sigmoid or tanh, as they are sensitive to the range of input values (e.g., values far from zero can saturate the function and slow down learning).\n",
        "\n",
        ">**Standardized input data ensures that all features contribute equally to the model’s training process, leading to better optimization of weights and faster convergence.**\n"
      ],
      "metadata": {
        "id": "nO2gLHGMmdBt"
      }
    },
    {
      "cell_type": "markdown",
      "source": [
        "###2. Effect of Number of Neurons in the Hidden Layer\n",
        "**Small Number of Neurons:**\n",
        "- If the hidden layer contains too few neurons, the model might not have enough capacity to capture the complexity of the data, resulting in `underfitting`. This means the model might not perform well even on the training data.\n",
        "-  Too Few Neurons: Insufficient capacity to learn the underlying patterns in the data, leading to underfitting.(Low)\n",
        "\n",
        "**Large Number of Neurons:**\n",
        "- On the other hand, having too many neurons might increase the model’s complexity and cause `overfitting`, where the model learns the noise in the data rather than the actual patterns. This can cause the model to perform well on the training data but poorly on unseen data (i.e., the model generalizes poorly).\n",
        "- Too Many Neurons: Adds unnecessary complexity, increases computation time, and risks overfitting (again low testing accuracy).\n",
        "\n",
        "\n",
        ">**Balanced neuron count ensures the model has sufficient capacity to learn meaningful representations without overfitting or underfitting.**\n"
      ],
      "metadata": {
        "id": "_kH2napPteU5"
      }
    },
    {
      "cell_type": "markdown",
      "source": [
        "###3.Effect of Number of Hidden Layers\n",
        "\n",
        "**Single Hidden Layer (shallow networks)**\n",
        "- Too Few Layers: May not capture complex relationships in the data, leading to underfitting and poor classification accuracy.\n",
        "\n",
        "**Multiple Hidden Layers (deep networks):**\n",
        "- Too Many Layers: Increases computational cost, risks overfitting, and may cause vanishing or exploding gradient problems during training."
      ],
      "metadata": {
        "id": "DUdKa9yFvGUi"
      }
    },
    {
      "cell_type": "markdown",
      "source": [
        "In summary, standardizing input features ensures faster and more efficient learning. Choosing the right number of neurons and hidden layers balances model performance, avoiding underfitting or overfitting while managing training time effectively.\n"
      ],
      "metadata": {
        "id": "20FQ7U6l3bob"
      }
    },
    {
      "cell_type": "markdown",
      "source": [],
      "metadata": {
        "id": "jK0MMojMhUgi"
      }
    },
    {
      "cell_type": "markdown",
      "source": [
        "                                                                                    -   END -"
      ],
      "metadata": {
        "id": "0NK-JuJmhKOt"
      }
    }
  ]
}